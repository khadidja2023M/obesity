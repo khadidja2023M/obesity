{
 "cells": [
  {
   "cell_type": "markdown",
   "id": "cb98378d",
   "metadata": {},
   "source": [
    "# Data Exploration and Cleaning "
   ]
  },
  {
   "cell_type": "markdown",
   "id": "19acbaff",
   "metadata": {},
   "source": [
    "# Obesity Dataset"
   ]
  },
  {
   "cell_type": "markdown",
   "id": "788b5faa",
   "metadata": {},
   "source": [
    "The Obesity dataset has been chosen for the project since obesity is a universal problem and an intersectional one. It touches on medicine, genetics, psychology, sociology, urban planning, and even economics Obesity is a chronic disease; it is recognized as the fifth leading cause of mortality worldwide and is a major public health concern. Age, weight, height, body mass index, as well as other hereditary and lifestyle variables, are only a few of the causes.\n",
    "\n",
    "The dataset columns description Frequent consumption of high caloric food (FAVC), Frequency of consumption of vegetables (FCVC), Number of main meals (NCP), Consumption of food between meals (CAEC), Consumption of water daily (CH20), Consumption of alcohol (CALC). The attributes related with the physical condition are: Calories consumption monitoring (SCC), Physical activity frequency (FAF), Time using technology devices (TUE), Transportation used (MTRANS),"
   ]
  },
  {
   "cell_type": "code",
   "execution_count": 1,
   "id": "46a5c0c9",
   "metadata": {},
   "outputs": [],
   "source": [
    "#Import Libraries\n",
    "import pandas as pd"
   ]
  },
  {
   "cell_type": "code",
   "execution_count": 2,
   "id": "caced771",
   "metadata": {},
   "outputs": [],
   "source": [
    "# Load the data from CSV file\n",
    "data = pd.read_csv(\"Obesity.csv\")"
   ]
  },
  {
   "cell_type": "code",
   "execution_count": 3,
   "id": "05f13dcf",
   "metadata": {},
   "outputs": [
    {
     "data": {
      "text/html": [
       "<div>\n",
       "<style scoped>\n",
       "    .dataframe tbody tr th:only-of-type {\n",
       "        vertical-align: middle;\n",
       "    }\n",
       "\n",
       "    .dataframe tbody tr th {\n",
       "        vertical-align: top;\n",
       "    }\n",
       "\n",
       "    .dataframe thead th {\n",
       "        text-align: right;\n",
       "    }\n",
       "</style>\n",
       "<table border=\"1\" class=\"dataframe\">\n",
       "  <thead>\n",
       "    <tr style=\"text-align: right;\">\n",
       "      <th></th>\n",
       "      <th>Gender</th>\n",
       "      <th>Age</th>\n",
       "      <th>Height</th>\n",
       "      <th>Weight</th>\n",
       "      <th>family_history_with_overweight</th>\n",
       "      <th>FAVC</th>\n",
       "      <th>FCVC</th>\n",
       "      <th>NCP</th>\n",
       "      <th>CAEC</th>\n",
       "      <th>SMOKE</th>\n",
       "      <th>CH2O</th>\n",
       "      <th>SCC</th>\n",
       "      <th>FAF</th>\n",
       "      <th>TUE</th>\n",
       "      <th>CALC</th>\n",
       "      <th>MTRANS</th>\n",
       "      <th>NObeyesdad</th>\n",
       "    </tr>\n",
       "  </thead>\n",
       "  <tbody>\n",
       "    <tr>\n",
       "      <th>0</th>\n",
       "      <td>Female</td>\n",
       "      <td>21.0</td>\n",
       "      <td>1.62</td>\n",
       "      <td>64.0</td>\n",
       "      <td>yes</td>\n",
       "      <td>no</td>\n",
       "      <td>2.0</td>\n",
       "      <td>3.0</td>\n",
       "      <td>Sometimes</td>\n",
       "      <td>no</td>\n",
       "      <td>2.0</td>\n",
       "      <td>no</td>\n",
       "      <td>0.0</td>\n",
       "      <td>1.0</td>\n",
       "      <td>no</td>\n",
       "      <td>Public_Transportation</td>\n",
       "      <td>Normal_Weight</td>\n",
       "    </tr>\n",
       "    <tr>\n",
       "      <th>1</th>\n",
       "      <td>Female</td>\n",
       "      <td>21.0</td>\n",
       "      <td>1.52</td>\n",
       "      <td>56.0</td>\n",
       "      <td>yes</td>\n",
       "      <td>no</td>\n",
       "      <td>3.0</td>\n",
       "      <td>3.0</td>\n",
       "      <td>Sometimes</td>\n",
       "      <td>yes</td>\n",
       "      <td>3.0</td>\n",
       "      <td>yes</td>\n",
       "      <td>3.0</td>\n",
       "      <td>0.0</td>\n",
       "      <td>Sometimes</td>\n",
       "      <td>Public_Transportation</td>\n",
       "      <td>Normal_Weight</td>\n",
       "    </tr>\n",
       "    <tr>\n",
       "      <th>2</th>\n",
       "      <td>Male</td>\n",
       "      <td>23.0</td>\n",
       "      <td>1.80</td>\n",
       "      <td>77.0</td>\n",
       "      <td>yes</td>\n",
       "      <td>no</td>\n",
       "      <td>2.0</td>\n",
       "      <td>3.0</td>\n",
       "      <td>Sometimes</td>\n",
       "      <td>no</td>\n",
       "      <td>2.0</td>\n",
       "      <td>no</td>\n",
       "      <td>2.0</td>\n",
       "      <td>1.0</td>\n",
       "      <td>Frequently</td>\n",
       "      <td>Public_Transportation</td>\n",
       "      <td>Normal_Weight</td>\n",
       "    </tr>\n",
       "    <tr>\n",
       "      <th>3</th>\n",
       "      <td>Male</td>\n",
       "      <td>27.0</td>\n",
       "      <td>1.80</td>\n",
       "      <td>87.0</td>\n",
       "      <td>no</td>\n",
       "      <td>no</td>\n",
       "      <td>3.0</td>\n",
       "      <td>3.0</td>\n",
       "      <td>Sometimes</td>\n",
       "      <td>no</td>\n",
       "      <td>2.0</td>\n",
       "      <td>no</td>\n",
       "      <td>2.0</td>\n",
       "      <td>0.0</td>\n",
       "      <td>Frequently</td>\n",
       "      <td>Walking</td>\n",
       "      <td>Overweight_Level_I</td>\n",
       "    </tr>\n",
       "    <tr>\n",
       "      <th>4</th>\n",
       "      <td>Male</td>\n",
       "      <td>22.0</td>\n",
       "      <td>1.78</td>\n",
       "      <td>89.8</td>\n",
       "      <td>no</td>\n",
       "      <td>no</td>\n",
       "      <td>2.0</td>\n",
       "      <td>1.0</td>\n",
       "      <td>Sometimes</td>\n",
       "      <td>no</td>\n",
       "      <td>2.0</td>\n",
       "      <td>no</td>\n",
       "      <td>0.0</td>\n",
       "      <td>0.0</td>\n",
       "      <td>Sometimes</td>\n",
       "      <td>Public_Transportation</td>\n",
       "      <td>Overweight_Level_II</td>\n",
       "    </tr>\n",
       "  </tbody>\n",
       "</table>\n",
       "</div>"
      ],
      "text/plain": [
       "   Gender   Age  Height  Weight family_history_with_overweight FAVC  FCVC  \\\n",
       "0  Female  21.0    1.62    64.0                            yes   no   2.0   \n",
       "1  Female  21.0    1.52    56.0                            yes   no   3.0   \n",
       "2    Male  23.0    1.80    77.0                            yes   no   2.0   \n",
       "3    Male  27.0    1.80    87.0                             no   no   3.0   \n",
       "4    Male  22.0    1.78    89.8                             no   no   2.0   \n",
       "\n",
       "   NCP       CAEC SMOKE  CH2O  SCC  FAF  TUE        CALC  \\\n",
       "0  3.0  Sometimes    no   2.0   no  0.0  1.0          no   \n",
       "1  3.0  Sometimes   yes   3.0  yes  3.0  0.0   Sometimes   \n",
       "2  3.0  Sometimes    no   2.0   no  2.0  1.0  Frequently   \n",
       "3  3.0  Sometimes    no   2.0   no  2.0  0.0  Frequently   \n",
       "4  1.0  Sometimes    no   2.0   no  0.0  0.0   Sometimes   \n",
       "\n",
       "                  MTRANS           NObeyesdad  \n",
       "0  Public_Transportation        Normal_Weight  \n",
       "1  Public_Transportation        Normal_Weight  \n",
       "2  Public_Transportation        Normal_Weight  \n",
       "3                Walking   Overweight_Level_I  \n",
       "4  Public_Transportation  Overweight_Level_II  "
      ]
     },
     "execution_count": 3,
     "metadata": {},
     "output_type": "execute_result"
    }
   ],
   "source": [
    "data.head()"
   ]
  },
  {
   "cell_type": "code",
   "execution_count": 4,
   "id": "e230aa3b",
   "metadata": {},
   "outputs": [
    {
     "name": "stdout",
     "output_type": "stream",
     "text": [
      "<class 'pandas.core.frame.DataFrame'>\n",
      "RangeIndex: 2111 entries, 0 to 2110\n",
      "Data columns (total 17 columns):\n",
      " #   Column                          Non-Null Count  Dtype  \n",
      "---  ------                          --------------  -----  \n",
      " 0   Gender                          2111 non-null   object \n",
      " 1   Age                             2111 non-null   float64\n",
      " 2   Height                          2111 non-null   float64\n",
      " 3   Weight                          2111 non-null   float64\n",
      " 4   family_history_with_overweight  2111 non-null   object \n",
      " 5   FAVC                            2111 non-null   object \n",
      " 6   FCVC                            2111 non-null   float64\n",
      " 7   NCP                             2111 non-null   float64\n",
      " 8   CAEC                            2111 non-null   object \n",
      " 9   SMOKE                           2111 non-null   object \n",
      " 10  CH2O                            2111 non-null   float64\n",
      " 11  SCC                             2111 non-null   object \n",
      " 12  FAF                             2111 non-null   float64\n",
      " 13  TUE                             2111 non-null   float64\n",
      " 14  CALC                            2111 non-null   object \n",
      " 15  MTRANS                          2111 non-null   object \n",
      " 16  NObeyesdad                      2111 non-null   object \n",
      "dtypes: float64(8), object(9)\n",
      "memory usage: 280.5+ KB\n"
     ]
    }
   ],
   "source": [
    "data.info()"
   ]
  },
  {
   "cell_type": "code",
   "execution_count": 5,
   "id": "aeb7dd4a",
   "metadata": {},
   "outputs": [
    {
     "data": {
      "text/plain": [
       "Gender                            0\n",
       "Age                               0\n",
       "Height                            0\n",
       "Weight                            0\n",
       "family_history_with_overweight    0\n",
       "FAVC                              0\n",
       "FCVC                              0\n",
       "NCP                               0\n",
       "CAEC                              0\n",
       "SMOKE                             0\n",
       "CH2O                              0\n",
       "SCC                               0\n",
       "FAF                               0\n",
       "TUE                               0\n",
       "CALC                              0\n",
       "MTRANS                            0\n",
       "NObeyesdad                        0\n",
       "dtype: int64"
      ]
     },
     "execution_count": 5,
     "metadata": {},
     "output_type": "execute_result"
    }
   ],
   "source": [
    "data.isnull().sum()"
   ]
  },
  {
   "cell_type": "code",
   "execution_count": 6,
   "id": "c93d5c22",
   "metadata": {},
   "outputs": [
    {
     "data": {
      "text/plain": [
       "Obesity_Type_I         351\n",
       "Obesity_Type_III       324\n",
       "Obesity_Type_II        297\n",
       "Overweight_Level_I     290\n",
       "Overweight_Level_II    290\n",
       "Normal_Weight          287\n",
       "Insufficient_Weight    272\n",
       "Name: NObeyesdad, dtype: int64"
      ]
     },
     "execution_count": 6,
     "metadata": {},
     "output_type": "execute_result"
    }
   ],
   "source": [
    "data['NObeyesdad'].value_counts()\n"
   ]
  },
  {
   "cell_type": "code",
   "execution_count": 7,
   "id": "15273756",
   "metadata": {},
   "outputs": [
    {
     "data": {
      "text/plain": [
       "(2111, 17)"
      ]
     },
     "execution_count": 7,
     "metadata": {},
     "output_type": "execute_result"
    }
   ],
   "source": [
    "data.shape"
   ]
  },
  {
   "cell_type": "code",
   "execution_count": 8,
   "id": "7da47d0a",
   "metadata": {},
   "outputs": [
    {
     "data": {
      "text/html": [
       "<div>\n",
       "<style scoped>\n",
       "    .dataframe tbody tr th:only-of-type {\n",
       "        vertical-align: middle;\n",
       "    }\n",
       "\n",
       "    .dataframe tbody tr th {\n",
       "        vertical-align: top;\n",
       "    }\n",
       "\n",
       "    .dataframe thead th {\n",
       "        text-align: right;\n",
       "    }\n",
       "</style>\n",
       "<table border=\"1\" class=\"dataframe\">\n",
       "  <thead>\n",
       "    <tr style=\"text-align: right;\">\n",
       "      <th></th>\n",
       "      <th>Gender</th>\n",
       "      <th>Age</th>\n",
       "      <th>Height</th>\n",
       "      <th>Weight</th>\n",
       "      <th>family_history_with_overweight</th>\n",
       "      <th>FAVC</th>\n",
       "      <th>FCVC</th>\n",
       "      <th>NCP</th>\n",
       "      <th>CAEC</th>\n",
       "      <th>SMOKE</th>\n",
       "      <th>CH2O</th>\n",
       "      <th>SCC</th>\n",
       "      <th>FAF</th>\n",
       "      <th>TUE</th>\n",
       "      <th>CALC</th>\n",
       "      <th>MTRANS</th>\n",
       "      <th>NObeyesdad</th>\n",
       "      <th>BMI</th>\n",
       "    </tr>\n",
       "  </thead>\n",
       "  <tbody>\n",
       "    <tr>\n",
       "      <th>0</th>\n",
       "      <td>Female</td>\n",
       "      <td>21.0</td>\n",
       "      <td>1.62</td>\n",
       "      <td>64.0</td>\n",
       "      <td>yes</td>\n",
       "      <td>no</td>\n",
       "      <td>2.0</td>\n",
       "      <td>3.0</td>\n",
       "      <td>Sometimes</td>\n",
       "      <td>no</td>\n",
       "      <td>2.0</td>\n",
       "      <td>no</td>\n",
       "      <td>0.0</td>\n",
       "      <td>1.0</td>\n",
       "      <td>no</td>\n",
       "      <td>Public_Transportation</td>\n",
       "      <td>Normal_Weight</td>\n",
       "      <td>24.39</td>\n",
       "    </tr>\n",
       "    <tr>\n",
       "      <th>1</th>\n",
       "      <td>Female</td>\n",
       "      <td>21.0</td>\n",
       "      <td>1.52</td>\n",
       "      <td>56.0</td>\n",
       "      <td>yes</td>\n",
       "      <td>no</td>\n",
       "      <td>3.0</td>\n",
       "      <td>3.0</td>\n",
       "      <td>Sometimes</td>\n",
       "      <td>yes</td>\n",
       "      <td>3.0</td>\n",
       "      <td>yes</td>\n",
       "      <td>3.0</td>\n",
       "      <td>0.0</td>\n",
       "      <td>Sometimes</td>\n",
       "      <td>Public_Transportation</td>\n",
       "      <td>Normal_Weight</td>\n",
       "      <td>24.24</td>\n",
       "    </tr>\n",
       "    <tr>\n",
       "      <th>2</th>\n",
       "      <td>Male</td>\n",
       "      <td>23.0</td>\n",
       "      <td>1.80</td>\n",
       "      <td>77.0</td>\n",
       "      <td>yes</td>\n",
       "      <td>no</td>\n",
       "      <td>2.0</td>\n",
       "      <td>3.0</td>\n",
       "      <td>Sometimes</td>\n",
       "      <td>no</td>\n",
       "      <td>2.0</td>\n",
       "      <td>no</td>\n",
       "      <td>2.0</td>\n",
       "      <td>1.0</td>\n",
       "      <td>Frequently</td>\n",
       "      <td>Public_Transportation</td>\n",
       "      <td>Normal_Weight</td>\n",
       "      <td>23.77</td>\n",
       "    </tr>\n",
       "    <tr>\n",
       "      <th>3</th>\n",
       "      <td>Male</td>\n",
       "      <td>27.0</td>\n",
       "      <td>1.80</td>\n",
       "      <td>87.0</td>\n",
       "      <td>no</td>\n",
       "      <td>no</td>\n",
       "      <td>3.0</td>\n",
       "      <td>3.0</td>\n",
       "      <td>Sometimes</td>\n",
       "      <td>no</td>\n",
       "      <td>2.0</td>\n",
       "      <td>no</td>\n",
       "      <td>2.0</td>\n",
       "      <td>0.0</td>\n",
       "      <td>Frequently</td>\n",
       "      <td>Walking</td>\n",
       "      <td>Overweight_Level_I</td>\n",
       "      <td>26.85</td>\n",
       "    </tr>\n",
       "    <tr>\n",
       "      <th>4</th>\n",
       "      <td>Male</td>\n",
       "      <td>22.0</td>\n",
       "      <td>1.78</td>\n",
       "      <td>89.8</td>\n",
       "      <td>no</td>\n",
       "      <td>no</td>\n",
       "      <td>2.0</td>\n",
       "      <td>1.0</td>\n",
       "      <td>Sometimes</td>\n",
       "      <td>no</td>\n",
       "      <td>2.0</td>\n",
       "      <td>no</td>\n",
       "      <td>0.0</td>\n",
       "      <td>0.0</td>\n",
       "      <td>Sometimes</td>\n",
       "      <td>Public_Transportation</td>\n",
       "      <td>Overweight_Level_II</td>\n",
       "      <td>28.34</td>\n",
       "    </tr>\n",
       "  </tbody>\n",
       "</table>\n",
       "</div>"
      ],
      "text/plain": [
       "   Gender   Age  Height  Weight family_history_with_overweight FAVC  FCVC  \\\n",
       "0  Female  21.0    1.62    64.0                            yes   no   2.0   \n",
       "1  Female  21.0    1.52    56.0                            yes   no   3.0   \n",
       "2    Male  23.0    1.80    77.0                            yes   no   2.0   \n",
       "3    Male  27.0    1.80    87.0                             no   no   3.0   \n",
       "4    Male  22.0    1.78    89.8                             no   no   2.0   \n",
       "\n",
       "   NCP       CAEC SMOKE  CH2O  SCC  FAF  TUE        CALC  \\\n",
       "0  3.0  Sometimes    no   2.0   no  0.0  1.0          no   \n",
       "1  3.0  Sometimes   yes   3.0  yes  3.0  0.0   Sometimes   \n",
       "2  3.0  Sometimes    no   2.0   no  2.0  1.0  Frequently   \n",
       "3  3.0  Sometimes    no   2.0   no  2.0  0.0  Frequently   \n",
       "4  1.0  Sometimes    no   2.0   no  0.0  0.0   Sometimes   \n",
       "\n",
       "                  MTRANS           NObeyesdad    BMI  \n",
       "0  Public_Transportation        Normal_Weight  24.39  \n",
       "1  Public_Transportation        Normal_Weight  24.24  \n",
       "2  Public_Transportation        Normal_Weight  23.77  \n",
       "3                Walking   Overweight_Level_I  26.85  \n",
       "4  Public_Transportation  Overweight_Level_II  28.34  "
      ]
     },
     "execution_count": 8,
     "metadata": {},
     "output_type": "execute_result"
    }
   ],
   "source": [
    "#The function to add BMI column \n",
    "def calculate_bmi(height, weight):\n",
    "    # Formula to calculate BMI: BMI = weight (kg) / height**2 (m2)\n",
    "    bmi = weight / (height ** 2)\n",
    "    return round(bmi, 2)  # Round to 2 decimal places\n",
    "\n",
    "\n",
    "# Add a new 'BMI' column to the existing DataFrame\n",
    "data['BMI'] = data.apply(lambda row: calculate_bmi(row['Height'], row['Weight']), axis=1)\n",
    "\n",
    "data.head()"
   ]
  },
  {
   "cell_type": "markdown",
   "id": "703ed1bd",
   "metadata": {},
   "source": [
    "***Check if there are any mistakes on the classification of  NObeyesdad Obesity classes columns*** "
   ]
  },
  {
   "cell_type": "code",
   "execution_count": 9,
   "id": "898db923",
   "metadata": {},
   "outputs": [
    {
     "name": "stdout",
     "output_type": "stream",
     "text": [
      "Maximun values for each category\n",
      "NObeyesdad\n",
      "Insufficient_Weight    19.08\n",
      "Normal_Weight          24.91\n",
      "Obesity_Type_I         35.17\n",
      "Obesity_Type_II        39.79\n",
      "Obesity_Type_III       50.81\n",
      "Overweight_Level_I     28.77\n",
      "Overweight_Level_II    30.36\n",
      "Name: BMI, dtype: float64\n",
      "Minimum values for each category\n",
      "NObeyesdad\n",
      "Insufficient_Weight    13.00\n",
      "Normal_Weight          18.49\n",
      "Obesity_Type_I         29.91\n",
      "Obesity_Type_II        34.05\n",
      "Obesity_Type_III       36.77\n",
      "Overweight_Level_I     22.83\n",
      "Overweight_Level_II    25.71\n",
      "Name: BMI, dtype: float64\n",
      "-----------------------------------------------------------------------------------------------------\n",
      "The results are compared with WHO Obesity Classification\n",
      "WHO Classification\n",
      "Underweight BMI < 18.5\n",
      "Normal weigh BMI = 18.5 – 24.9\n",
      "Overweight BMI = 25.0 – 29.9\n",
      "Obesity\n",
      "a. Class I: BMI = 30.0 – 34.9\n",
      "b. Class II: BMI = 35.0 – 39.9\n",
      "c. Class III: BMI ≥ 40.0\n"
     ]
    }
   ],
   "source": [
    "# Group by the 'NObeyesdad' column and get the minimum BMI for each category\n",
    "min_bmi_by_category = data.groupby('NObeyesdad')['BMI'].max()\n",
    "print('Maximun values for each category')\n",
    "print(min_bmi_by_category)\n",
    "\n",
    "# Group by the 'NObeyesdad' column and get the minimum BMI for each category\n",
    "min_bmi_by_category = data.groupby('NObeyesdad')['BMI'].min()\n",
    "print('Minimum values for each category')\n",
    "print(min_bmi_by_category)\n",
    "print('-----------------------------------------------------------------------------------------------------')\n",
    "print('The results are compared with WHO Obesity Classification')\n",
    "print('WHO Classification')\n",
    "print('Underweight BMI < 18.5\\nNormal weigh BMI = 18.5 – 24.9\\nOverweight BMI = 25.0 – 29.9\\nObesity\\na. Class I: BMI = 30.0 – 34.9\\nb. Class II: BMI = 35.0 – 39.9\\nc. Class III: BMI ≥ 40.0')"
   ]
  },
  {
   "cell_type": "code",
   "execution_count": 10,
   "id": "c31764b6",
   "metadata": {},
   "outputs": [
    {
     "name": "stdout",
     "output_type": "stream",
     "text": [
      "There are 290 occurrences of 'Overweight_Level_I' in the 'NObeyesdad' column.\n",
      "There are 290 occurrences of 'Overweight_Level_II' in the 'NObeyesdad' column.\n",
      "There are 580 total occurrences of 'Overweight_Level_I' and 'Overweight_Level_II' in the 'NObeyesdad' column.\n"
     ]
    }
   ],
   "source": [
    "# Get the counts of all unique values in the 'NObeyesdad' column\n",
    "counts = data['NObeyesdad'].value_counts()\n",
    "\n",
    "# Print the counts for \"Overweight_Level_I\" and \"Overweight_Level_II\"\n",
    "overweight_level_I_count = counts.get('Overweight_Level_I', 0)\n",
    "overweight_level_II_count = counts.get('Overweight_Level_II', 0)\n",
    "\n",
    "print(f\"There are {overweight_level_I_count} occurrences of 'Overweight_Level_I' in the 'NObeyesdad' column.\")\n",
    "print(f\"There are {overweight_level_II_count} occurrences of 'Overweight_Level_II' in the 'NObeyesdad' column.\")\n",
    "# Sum the counts\n",
    "total_overweight_counts = overweight_level_I_count + overweight_level_II_count\n",
    "\n",
    "print(f\"There are {total_overweight_counts} total occurrences of 'Overweight_Level_I' and 'Overweight_Level_II' in the 'NObeyesdad' column.\")"
   ]
  },
  {
   "cell_type": "markdown",
   "id": "109f3246",
   "metadata": {},
   "source": [
    "***Obesity classification needs to be corrected based on WHO  Classification***"
   ]
  },
  {
   "cell_type": "code",
   "execution_count": 11,
   "id": "c5be3941",
   "metadata": {},
   "outputs": [
    {
     "data": {
      "text/html": [
       "<div>\n",
       "<style scoped>\n",
       "    .dataframe tbody tr th:only-of-type {\n",
       "        vertical-align: middle;\n",
       "    }\n",
       "\n",
       "    .dataframe tbody tr th {\n",
       "        vertical-align: top;\n",
       "    }\n",
       "\n",
       "    .dataframe thead th {\n",
       "        text-align: right;\n",
       "    }\n",
       "</style>\n",
       "<table border=\"1\" class=\"dataframe\">\n",
       "  <thead>\n",
       "    <tr style=\"text-align: right;\">\n",
       "      <th></th>\n",
       "      <th>Gender</th>\n",
       "      <th>Age</th>\n",
       "      <th>Height</th>\n",
       "      <th>Weight</th>\n",
       "      <th>family_history_with_overweight</th>\n",
       "      <th>FAVC</th>\n",
       "      <th>FCVC</th>\n",
       "      <th>NCP</th>\n",
       "      <th>CAEC</th>\n",
       "      <th>SMOKE</th>\n",
       "      <th>CH2O</th>\n",
       "      <th>SCC</th>\n",
       "      <th>FAF</th>\n",
       "      <th>TUE</th>\n",
       "      <th>CALC</th>\n",
       "      <th>MTRANS</th>\n",
       "      <th>NObeyesdad</th>\n",
       "      <th>BMI</th>\n",
       "      <th>Classes</th>\n",
       "    </tr>\n",
       "  </thead>\n",
       "  <tbody>\n",
       "    <tr>\n",
       "      <th>0</th>\n",
       "      <td>Female</td>\n",
       "      <td>21.0</td>\n",
       "      <td>1.62</td>\n",
       "      <td>64.0</td>\n",
       "      <td>yes</td>\n",
       "      <td>no</td>\n",
       "      <td>2.0</td>\n",
       "      <td>3.0</td>\n",
       "      <td>Sometimes</td>\n",
       "      <td>no</td>\n",
       "      <td>2.0</td>\n",
       "      <td>no</td>\n",
       "      <td>0.0</td>\n",
       "      <td>1.0</td>\n",
       "      <td>no</td>\n",
       "      <td>Public_Transportation</td>\n",
       "      <td>Normal_Weight</td>\n",
       "      <td>24.39</td>\n",
       "      <td>Normal_Weight</td>\n",
       "    </tr>\n",
       "    <tr>\n",
       "      <th>1</th>\n",
       "      <td>Female</td>\n",
       "      <td>21.0</td>\n",
       "      <td>1.52</td>\n",
       "      <td>56.0</td>\n",
       "      <td>yes</td>\n",
       "      <td>no</td>\n",
       "      <td>3.0</td>\n",
       "      <td>3.0</td>\n",
       "      <td>Sometimes</td>\n",
       "      <td>yes</td>\n",
       "      <td>3.0</td>\n",
       "      <td>yes</td>\n",
       "      <td>3.0</td>\n",
       "      <td>0.0</td>\n",
       "      <td>Sometimes</td>\n",
       "      <td>Public_Transportation</td>\n",
       "      <td>Normal_Weight</td>\n",
       "      <td>24.24</td>\n",
       "      <td>Normal_Weight</td>\n",
       "    </tr>\n",
       "    <tr>\n",
       "      <th>2</th>\n",
       "      <td>Male</td>\n",
       "      <td>23.0</td>\n",
       "      <td>1.80</td>\n",
       "      <td>77.0</td>\n",
       "      <td>yes</td>\n",
       "      <td>no</td>\n",
       "      <td>2.0</td>\n",
       "      <td>3.0</td>\n",
       "      <td>Sometimes</td>\n",
       "      <td>no</td>\n",
       "      <td>2.0</td>\n",
       "      <td>no</td>\n",
       "      <td>2.0</td>\n",
       "      <td>1.0</td>\n",
       "      <td>Frequently</td>\n",
       "      <td>Public_Transportation</td>\n",
       "      <td>Normal_Weight</td>\n",
       "      <td>23.77</td>\n",
       "      <td>Normal_Weight</td>\n",
       "    </tr>\n",
       "    <tr>\n",
       "      <th>3</th>\n",
       "      <td>Male</td>\n",
       "      <td>27.0</td>\n",
       "      <td>1.80</td>\n",
       "      <td>87.0</td>\n",
       "      <td>no</td>\n",
       "      <td>no</td>\n",
       "      <td>3.0</td>\n",
       "      <td>3.0</td>\n",
       "      <td>Sometimes</td>\n",
       "      <td>no</td>\n",
       "      <td>2.0</td>\n",
       "      <td>no</td>\n",
       "      <td>2.0</td>\n",
       "      <td>0.0</td>\n",
       "      <td>Frequently</td>\n",
       "      <td>Walking</td>\n",
       "      <td>Overweight_Level_I</td>\n",
       "      <td>26.85</td>\n",
       "      <td>Overweight</td>\n",
       "    </tr>\n",
       "    <tr>\n",
       "      <th>4</th>\n",
       "      <td>Male</td>\n",
       "      <td>22.0</td>\n",
       "      <td>1.78</td>\n",
       "      <td>89.8</td>\n",
       "      <td>no</td>\n",
       "      <td>no</td>\n",
       "      <td>2.0</td>\n",
       "      <td>1.0</td>\n",
       "      <td>Sometimes</td>\n",
       "      <td>no</td>\n",
       "      <td>2.0</td>\n",
       "      <td>no</td>\n",
       "      <td>0.0</td>\n",
       "      <td>0.0</td>\n",
       "      <td>Sometimes</td>\n",
       "      <td>Public_Transportation</td>\n",
       "      <td>Overweight_Level_II</td>\n",
       "      <td>28.34</td>\n",
       "      <td>Overweight</td>\n",
       "    </tr>\n",
       "  </tbody>\n",
       "</table>\n",
       "</div>"
      ],
      "text/plain": [
       "   Gender   Age  Height  Weight family_history_with_overweight FAVC  FCVC  \\\n",
       "0  Female  21.0    1.62    64.0                            yes   no   2.0   \n",
       "1  Female  21.0    1.52    56.0                            yes   no   3.0   \n",
       "2    Male  23.0    1.80    77.0                            yes   no   2.0   \n",
       "3    Male  27.0    1.80    87.0                             no   no   3.0   \n",
       "4    Male  22.0    1.78    89.8                             no   no   2.0   \n",
       "\n",
       "   NCP       CAEC SMOKE  CH2O  SCC  FAF  TUE        CALC  \\\n",
       "0  3.0  Sometimes    no   2.0   no  0.0  1.0          no   \n",
       "1  3.0  Sometimes   yes   3.0  yes  3.0  0.0   Sometimes   \n",
       "2  3.0  Sometimes    no   2.0   no  2.0  1.0  Frequently   \n",
       "3  3.0  Sometimes    no   2.0   no  2.0  0.0  Frequently   \n",
       "4  1.0  Sometimes    no   2.0   no  0.0  0.0   Sometimes   \n",
       "\n",
       "                  MTRANS           NObeyesdad    BMI        Classes  \n",
       "0  Public_Transportation        Normal_Weight  24.39  Normal_Weight  \n",
       "1  Public_Transportation        Normal_Weight  24.24  Normal_Weight  \n",
       "2  Public_Transportation        Normal_Weight  23.77  Normal_Weight  \n",
       "3                Walking   Overweight_Level_I  26.85     Overweight  \n",
       "4  Public_Transportation  Overweight_Level_II  28.34     Overweight  "
      ]
     },
     "execution_count": 11,
     "metadata": {},
     "output_type": "execute_result"
    }
   ],
   "source": [
    "#there were some errors so the obesity levels are ordered again acording to WHO  \n",
    "def classify_bmi(bmi):\n",
    "    if bmi < 18.5:\n",
    "        return 'Insufficient_Weight'\n",
    "    elif 18.5 <= bmi < 25:\n",
    "        return 'Normal_Weight'\n",
    "    elif 25 <= bmi < 30:\n",
    "        return 'Overweight'\n",
    "    elif 30 <= bmi < 35:\n",
    "        return 'Obesity_Type_I'\n",
    "    elif 35 <= bmi < 40:\n",
    "        return 'Obesity_Type_II'\n",
    "    else:\n",
    "        return 'Obesity_Type_III'\n",
    "\n",
    "# Add the 'Classes' column to the DataFrame by applying the classify_bmi function to the 'BMI' column\n",
    "data['Classes'] = data['BMI'].apply(classify_bmi)\n",
    "\n",
    "# Display the first 5 rows to see the new column\n",
    "data.head()"
   ]
  },
  {
   "cell_type": "code",
   "execution_count": 12,
   "id": "49115da8",
   "metadata": {},
   "outputs": [
    {
     "data": {
      "text/html": [
       "<div>\n",
       "<style scoped>\n",
       "    .dataframe tbody tr th:only-of-type {\n",
       "        vertical-align: middle;\n",
       "    }\n",
       "\n",
       "    .dataframe tbody tr th {\n",
       "        vertical-align: top;\n",
       "    }\n",
       "\n",
       "    .dataframe thead th {\n",
       "        text-align: right;\n",
       "    }\n",
       "</style>\n",
       "<table border=\"1\" class=\"dataframe\">\n",
       "  <thead>\n",
       "    <tr style=\"text-align: right;\">\n",
       "      <th></th>\n",
       "      <th>Gender</th>\n",
       "      <th>Age</th>\n",
       "      <th>Height</th>\n",
       "      <th>Weight</th>\n",
       "      <th>family_history_with_overweight</th>\n",
       "      <th>FAVC</th>\n",
       "      <th>FCVC</th>\n",
       "      <th>NCP</th>\n",
       "      <th>CAEC</th>\n",
       "      <th>SMOKE</th>\n",
       "      <th>CH2O</th>\n",
       "      <th>SCC</th>\n",
       "      <th>FAF</th>\n",
       "      <th>TUE</th>\n",
       "      <th>CALC</th>\n",
       "      <th>MTRANS</th>\n",
       "      <th>NObeyesdad</th>\n",
       "      <th>BMI</th>\n",
       "      <th>Classes</th>\n",
       "      <th>comparison</th>\n",
       "    </tr>\n",
       "  </thead>\n",
       "  <tbody>\n",
       "    <tr>\n",
       "      <th>0</th>\n",
       "      <td>Female</td>\n",
       "      <td>21.0</td>\n",
       "      <td>1.62</td>\n",
       "      <td>64.0</td>\n",
       "      <td>yes</td>\n",
       "      <td>no</td>\n",
       "      <td>2.0</td>\n",
       "      <td>3.0</td>\n",
       "      <td>Sometimes</td>\n",
       "      <td>no</td>\n",
       "      <td>2.0</td>\n",
       "      <td>no</td>\n",
       "      <td>0.0</td>\n",
       "      <td>1.0</td>\n",
       "      <td>no</td>\n",
       "      <td>Public_Transportation</td>\n",
       "      <td>Normal_Weight</td>\n",
       "      <td>24.39</td>\n",
       "      <td>Normal_Weight</td>\n",
       "      <td>0</td>\n",
       "    </tr>\n",
       "    <tr>\n",
       "      <th>1</th>\n",
       "      <td>Female</td>\n",
       "      <td>21.0</td>\n",
       "      <td>1.52</td>\n",
       "      <td>56.0</td>\n",
       "      <td>yes</td>\n",
       "      <td>no</td>\n",
       "      <td>3.0</td>\n",
       "      <td>3.0</td>\n",
       "      <td>Sometimes</td>\n",
       "      <td>yes</td>\n",
       "      <td>3.0</td>\n",
       "      <td>yes</td>\n",
       "      <td>3.0</td>\n",
       "      <td>0.0</td>\n",
       "      <td>Sometimes</td>\n",
       "      <td>Public_Transportation</td>\n",
       "      <td>Normal_Weight</td>\n",
       "      <td>24.24</td>\n",
       "      <td>Normal_Weight</td>\n",
       "      <td>0</td>\n",
       "    </tr>\n",
       "    <tr>\n",
       "      <th>2</th>\n",
       "      <td>Male</td>\n",
       "      <td>23.0</td>\n",
       "      <td>1.80</td>\n",
       "      <td>77.0</td>\n",
       "      <td>yes</td>\n",
       "      <td>no</td>\n",
       "      <td>2.0</td>\n",
       "      <td>3.0</td>\n",
       "      <td>Sometimes</td>\n",
       "      <td>no</td>\n",
       "      <td>2.0</td>\n",
       "      <td>no</td>\n",
       "      <td>2.0</td>\n",
       "      <td>1.0</td>\n",
       "      <td>Frequently</td>\n",
       "      <td>Public_Transportation</td>\n",
       "      <td>Normal_Weight</td>\n",
       "      <td>23.77</td>\n",
       "      <td>Normal_Weight</td>\n",
       "      <td>0</td>\n",
       "    </tr>\n",
       "    <tr>\n",
       "      <th>3</th>\n",
       "      <td>Male</td>\n",
       "      <td>27.0</td>\n",
       "      <td>1.80</td>\n",
       "      <td>87.0</td>\n",
       "      <td>no</td>\n",
       "      <td>no</td>\n",
       "      <td>3.0</td>\n",
       "      <td>3.0</td>\n",
       "      <td>Sometimes</td>\n",
       "      <td>no</td>\n",
       "      <td>2.0</td>\n",
       "      <td>no</td>\n",
       "      <td>2.0</td>\n",
       "      <td>0.0</td>\n",
       "      <td>Frequently</td>\n",
       "      <td>Walking</td>\n",
       "      <td>Overweight_Level_I</td>\n",
       "      <td>26.85</td>\n",
       "      <td>Overweight</td>\n",
       "      <td>1</td>\n",
       "    </tr>\n",
       "    <tr>\n",
       "      <th>4</th>\n",
       "      <td>Male</td>\n",
       "      <td>22.0</td>\n",
       "      <td>1.78</td>\n",
       "      <td>89.8</td>\n",
       "      <td>no</td>\n",
       "      <td>no</td>\n",
       "      <td>2.0</td>\n",
       "      <td>1.0</td>\n",
       "      <td>Sometimes</td>\n",
       "      <td>no</td>\n",
       "      <td>2.0</td>\n",
       "      <td>no</td>\n",
       "      <td>0.0</td>\n",
       "      <td>0.0</td>\n",
       "      <td>Sometimes</td>\n",
       "      <td>Public_Transportation</td>\n",
       "      <td>Overweight_Level_II</td>\n",
       "      <td>28.34</td>\n",
       "      <td>Overweight</td>\n",
       "      <td>1</td>\n",
       "    </tr>\n",
       "  </tbody>\n",
       "</table>\n",
       "</div>"
      ],
      "text/plain": [
       "   Gender   Age  Height  Weight family_history_with_overweight FAVC  FCVC  \\\n",
       "0  Female  21.0    1.62    64.0                            yes   no   2.0   \n",
       "1  Female  21.0    1.52    56.0                            yes   no   3.0   \n",
       "2    Male  23.0    1.80    77.0                            yes   no   2.0   \n",
       "3    Male  27.0    1.80    87.0                             no   no   3.0   \n",
       "4    Male  22.0    1.78    89.8                             no   no   2.0   \n",
       "\n",
       "   NCP       CAEC SMOKE  CH2O  SCC  FAF  TUE        CALC  \\\n",
       "0  3.0  Sometimes    no   2.0   no  0.0  1.0          no   \n",
       "1  3.0  Sometimes   yes   3.0  yes  3.0  0.0   Sometimes   \n",
       "2  3.0  Sometimes    no   2.0   no  2.0  1.0  Frequently   \n",
       "3  3.0  Sometimes    no   2.0   no  2.0  0.0  Frequently   \n",
       "4  1.0  Sometimes    no   2.0   no  0.0  0.0   Sometimes   \n",
       "\n",
       "                  MTRANS           NObeyesdad    BMI        Classes  \\\n",
       "0  Public_Transportation        Normal_Weight  24.39  Normal_Weight   \n",
       "1  Public_Transportation        Normal_Weight  24.24  Normal_Weight   \n",
       "2  Public_Transportation        Normal_Weight  23.77  Normal_Weight   \n",
       "3                Walking   Overweight_Level_I  26.85     Overweight   \n",
       "4  Public_Transportation  Overweight_Level_II  28.34     Overweight   \n",
       "\n",
       "   comparison  \n",
       "0           0  \n",
       "1           0  \n",
       "2           0  \n",
       "3           1  \n",
       "4           1  "
      ]
     },
     "execution_count": 12,
     "metadata": {},
     "output_type": "execute_result"
    }
   ],
   "source": [
    "#compare the new column Classes and the NObeyesedad column to see how many errors there were.\n",
    "#create a new column called comparison and put 0 when they are edentical and 1 when they are different.\n",
    "data['comparison'] = (data['NObeyesdad'] != data['Classes']).astype(int)\n",
    "\n",
    "# Display the first 5 rows to see the new column\n",
    "data.head()\n"
   ]
  },
  {
   "cell_type": "code",
   "execution_count": 13,
   "id": "2859e968",
   "metadata": {},
   "outputs": [
    {
     "name": "stdout",
     "output_type": "stream",
     "text": [
      "There are 665 ones in the 'comparison' column.\n"
     ]
    }
   ],
   "source": [
    "#count how many ones we have \n",
    "number_of_ones = data['comparison'].sum()\n",
    "\n",
    "print(f\"There are {number_of_ones} ones in the 'comparison' column.\")\n"
   ]
  },
  {
   "cell_type": "code",
   "execution_count": 14,
   "id": "faad238d",
   "metadata": {},
   "outputs": [
    {
     "data": {
      "text/html": [
       "<div>\n",
       "<style scoped>\n",
       "    .dataframe tbody tr th:only-of-type {\n",
       "        vertical-align: middle;\n",
       "    }\n",
       "\n",
       "    .dataframe tbody tr th {\n",
       "        vertical-align: top;\n",
       "    }\n",
       "\n",
       "    .dataframe thead th {\n",
       "        text-align: right;\n",
       "    }\n",
       "</style>\n",
       "<table border=\"1\" class=\"dataframe\">\n",
       "  <thead>\n",
       "    <tr style=\"text-align: right;\">\n",
       "      <th></th>\n",
       "      <th>Gender</th>\n",
       "      <th>Age</th>\n",
       "      <th>Height</th>\n",
       "      <th>Weight</th>\n",
       "      <th>family_history_with_overweight</th>\n",
       "      <th>FAVC</th>\n",
       "      <th>FCVC</th>\n",
       "      <th>NCP</th>\n",
       "      <th>CAEC</th>\n",
       "      <th>SMOKE</th>\n",
       "      <th>CH2O</th>\n",
       "      <th>SCC</th>\n",
       "      <th>FAF</th>\n",
       "      <th>TUE</th>\n",
       "      <th>CALC</th>\n",
       "      <th>MTRANS</th>\n",
       "      <th>NObeyesdad</th>\n",
       "      <th>BMI</th>\n",
       "      <th>Classes</th>\n",
       "      <th>comparison</th>\n",
       "    </tr>\n",
       "  </thead>\n",
       "  <tbody>\n",
       "    <tr>\n",
       "      <th>0</th>\n",
       "      <td>Female</td>\n",
       "      <td>21.0</td>\n",
       "      <td>1.62</td>\n",
       "      <td>64.0</td>\n",
       "      <td>yes</td>\n",
       "      <td>no</td>\n",
       "      <td>2.0</td>\n",
       "      <td>3.0</td>\n",
       "      <td>Sometimes</td>\n",
       "      <td>no</td>\n",
       "      <td>2.0</td>\n",
       "      <td>no</td>\n",
       "      <td>0.0</td>\n",
       "      <td>1.0</td>\n",
       "      <td>no</td>\n",
       "      <td>Public_Transportation</td>\n",
       "      <td>Normal_Weight</td>\n",
       "      <td>24.39</td>\n",
       "      <td>Normal_Weight</td>\n",
       "      <td>0</td>\n",
       "    </tr>\n",
       "    <tr>\n",
       "      <th>1</th>\n",
       "      <td>Female</td>\n",
       "      <td>21.0</td>\n",
       "      <td>1.52</td>\n",
       "      <td>56.0</td>\n",
       "      <td>yes</td>\n",
       "      <td>no</td>\n",
       "      <td>3.0</td>\n",
       "      <td>3.0</td>\n",
       "      <td>Sometimes</td>\n",
       "      <td>yes</td>\n",
       "      <td>3.0</td>\n",
       "      <td>yes</td>\n",
       "      <td>3.0</td>\n",
       "      <td>0.0</td>\n",
       "      <td>Sometimes</td>\n",
       "      <td>Public_Transportation</td>\n",
       "      <td>Normal_Weight</td>\n",
       "      <td>24.24</td>\n",
       "      <td>Normal_Weight</td>\n",
       "      <td>0</td>\n",
       "    </tr>\n",
       "    <tr>\n",
       "      <th>2</th>\n",
       "      <td>Male</td>\n",
       "      <td>23.0</td>\n",
       "      <td>1.80</td>\n",
       "      <td>77.0</td>\n",
       "      <td>yes</td>\n",
       "      <td>no</td>\n",
       "      <td>2.0</td>\n",
       "      <td>3.0</td>\n",
       "      <td>Sometimes</td>\n",
       "      <td>no</td>\n",
       "      <td>2.0</td>\n",
       "      <td>no</td>\n",
       "      <td>2.0</td>\n",
       "      <td>1.0</td>\n",
       "      <td>Frequently</td>\n",
       "      <td>Public_Transportation</td>\n",
       "      <td>Normal_Weight</td>\n",
       "      <td>23.77</td>\n",
       "      <td>Normal_Weight</td>\n",
       "      <td>0</td>\n",
       "    </tr>\n",
       "    <tr>\n",
       "      <th>3</th>\n",
       "      <td>Male</td>\n",
       "      <td>27.0</td>\n",
       "      <td>1.80</td>\n",
       "      <td>87.0</td>\n",
       "      <td>no</td>\n",
       "      <td>no</td>\n",
       "      <td>3.0</td>\n",
       "      <td>3.0</td>\n",
       "      <td>Sometimes</td>\n",
       "      <td>no</td>\n",
       "      <td>2.0</td>\n",
       "      <td>no</td>\n",
       "      <td>2.0</td>\n",
       "      <td>0.0</td>\n",
       "      <td>Frequently</td>\n",
       "      <td>Walking</td>\n",
       "      <td>Overweight</td>\n",
       "      <td>26.85</td>\n",
       "      <td>Overweight</td>\n",
       "      <td>1</td>\n",
       "    </tr>\n",
       "    <tr>\n",
       "      <th>4</th>\n",
       "      <td>Male</td>\n",
       "      <td>22.0</td>\n",
       "      <td>1.78</td>\n",
       "      <td>89.8</td>\n",
       "      <td>no</td>\n",
       "      <td>no</td>\n",
       "      <td>2.0</td>\n",
       "      <td>1.0</td>\n",
       "      <td>Sometimes</td>\n",
       "      <td>no</td>\n",
       "      <td>2.0</td>\n",
       "      <td>no</td>\n",
       "      <td>0.0</td>\n",
       "      <td>0.0</td>\n",
       "      <td>Sometimes</td>\n",
       "      <td>Public_Transportation</td>\n",
       "      <td>Overweight</td>\n",
       "      <td>28.34</td>\n",
       "      <td>Overweight</td>\n",
       "      <td>1</td>\n",
       "    </tr>\n",
       "  </tbody>\n",
       "</table>\n",
       "</div>"
      ],
      "text/plain": [
       "   Gender   Age  Height  Weight family_history_with_overweight FAVC  FCVC  \\\n",
       "0  Female  21.0    1.62    64.0                            yes   no   2.0   \n",
       "1  Female  21.0    1.52    56.0                            yes   no   3.0   \n",
       "2    Male  23.0    1.80    77.0                            yes   no   2.0   \n",
       "3    Male  27.0    1.80    87.0                             no   no   3.0   \n",
       "4    Male  22.0    1.78    89.8                             no   no   2.0   \n",
       "\n",
       "   NCP       CAEC SMOKE  CH2O  SCC  FAF  TUE        CALC  \\\n",
       "0  3.0  Sometimes    no   2.0   no  0.0  1.0          no   \n",
       "1  3.0  Sometimes   yes   3.0  yes  3.0  0.0   Sometimes   \n",
       "2  3.0  Sometimes    no   2.0   no  2.0  1.0  Frequently   \n",
       "3  3.0  Sometimes    no   2.0   no  2.0  0.0  Frequently   \n",
       "4  1.0  Sometimes    no   2.0   no  0.0  0.0   Sometimes   \n",
       "\n",
       "                  MTRANS     NObeyesdad    BMI        Classes  comparison  \n",
       "0  Public_Transportation  Normal_Weight  24.39  Normal_Weight           0  \n",
       "1  Public_Transportation  Normal_Weight  24.24  Normal_Weight           0  \n",
       "2  Public_Transportation  Normal_Weight  23.77  Normal_Weight           0  \n",
       "3                Walking     Overweight  26.85     Overweight           1  \n",
       "4  Public_Transportation     Overweight  28.34     Overweight           1  "
      ]
     },
     "execution_count": 14,
     "metadata": {},
     "output_type": "execute_result"
    }
   ],
   "source": [
    "# Replace \"Overweight_Level_I\" and \"Overweight_Level_II\" with \"Overweight\" in the 'NObeyesdad' column\n",
    "data = data.replace({'NObeyesdad': {'Overweight_Level_I': 'Overweight', 'Overweight_Level_II': 'Overweight'}})\n",
    "\n",
    "# Display the first 5 rows to see the changes\n",
    "data.head()\n"
   ]
  },
  {
   "cell_type": "code",
   "execution_count": 15,
   "id": "1fb9f097",
   "metadata": {},
   "outputs": [
    {
     "name": "stdout",
     "output_type": "stream",
     "text": [
      "There are 665 errors.\n"
     ]
    }
   ],
   "source": [
    "#count the number of ones which the number of errors \n",
    "number_of_ones = data['comparison'].sum()\n",
    "\n",
    "print(f\"There are {number_of_ones} errors.\")\n"
   ]
  },
  {
   "cell_type": "code",
   "execution_count": 16,
   "id": "18753eb1",
   "metadata": {},
   "outputs": [
    {
     "name": "stdout",
     "output_type": "stream",
     "text": [
      "This is a sample of errors\n",
      "Maximun values for each category\n",
      "NObeyesdad\n",
      "Insufficient_Weight    19.08\n",
      "Normal_Weight          24.91\n",
      "Obesity_Type_I         35.17\n",
      "Obesity_Type_II        39.79\n",
      "Obesity_Type_III       50.81\n",
      "Overweight             30.36\n",
      "Name: BMI, dtype: float64\n",
      "According to WHO BMI= 36.86 considered as Obesity type II but in the data is Obesity type III and BMI = 19.08 is consedered normal weight but its Insufficient_Weight in the dta\n"
     ]
    }
   ],
   "source": [
    "# Filter the rows where the 'Comparison' column has the value 1, and select the desired columns\n",
    "errors = data[data['comparison'] == 1][['comparison', 'BMI', 'NObeyesdad']]\n",
    "print('This is a sample of errors')\n",
    "# Display the first 5 rows of the errors DataFrame\n",
    "errors.tail()\n",
    "min_bmi_by_category = data.groupby('NObeyesdad')['BMI'].max()\n",
    "print('Maximun values for each category')\n",
    "print(min_bmi_by_category)\n",
    "print('According to WHO BMI= 36.86 considered as Obesity type II but in the data is Obesity type III and BMI = 19.08 is consedered normal weight but its Insufficient_Weight in the dta')\n"
   ]
  },
  {
   "cell_type": "code",
   "execution_count": 17,
   "id": "b440c523",
   "metadata": {},
   "outputs": [
    {
     "data": {
      "text/plain": [
       "array(['Normal_Weight', 'Overweight', 'Obesity_Type_I',\n",
       "       'Insufficient_Weight', 'Obesity_Type_II', 'Obesity_Type_III'],\n",
       "      dtype=object)"
      ]
     },
     "execution_count": 17,
     "metadata": {},
     "output_type": "execute_result"
    }
   ],
   "source": [
    "data['Classes'].unique()"
   ]
  },
  {
   "cell_type": "code",
   "execution_count": 18,
   "id": "3a966081",
   "metadata": {},
   "outputs": [
    {
     "data": {
      "text/plain": [
       "Overweight             566\n",
       "Obesity_Type_I         368\n",
       "Obesity_Type_II        338\n",
       "Normal_Weight          301\n",
       "Insufficient_Weight    270\n",
       "Obesity_Type_III       268\n",
       "Name: Classes, dtype: int64"
      ]
     },
     "execution_count": 18,
     "metadata": {},
     "output_type": "execute_result"
    }
   ],
   "source": [
    "data['Classes'].value_counts()"
   ]
  },
  {
   "cell_type": "code",
   "execution_count": 19,
   "id": "17c59ace",
   "metadata": {},
   "outputs": [],
   "source": [
    "#create a new clean data \n",
    "#Drop the 'NObeyesdad' and 'Comparison' columns\n",
    "data = data.drop(columns=['NObeyesdad', 'comparison'])"
   ]
  },
  {
   "cell_type": "markdown",
   "id": "7ab578e7",
   "metadata": {},
   "source": [
    "***Explore and Check if there are any errors on the columns***"
   ]
  },
  {
   "cell_type": "markdown",
   "id": "dd83fd9f",
   "metadata": {},
   "source": [
    "***1.Number of main meals NCP (NCP is a categorical column and in the survey it has 3 categories)***\n"
   ]
  },
  {
   "cell_type": "markdown",
   "id": "68953659",
   "metadata": {},
   "source": [
    "***How many main meals do you have daily?***"
   ]
  },
  {
   "cell_type": "markdown",
   "id": "3c9534e5",
   "metadata": {},
   "source": [
    "***Between 1 y 2***"
   ]
  },
  {
   "cell_type": "markdown",
   "id": "7e8c56a5",
   "metadata": {},
   "source": [
    "***Three***"
   ]
  },
  {
   "cell_type": "markdown",
   "id": "a840e38d",
   "metadata": {},
   "source": [
    "***More than three***"
   ]
  },
  {
   "cell_type": "code",
   "execution_count": 20,
   "id": "2982e2f6",
   "metadata": {},
   "outputs": [
    {
     "data": {
      "text/plain": [
       "dtype('float64')"
      ]
     },
     "execution_count": 20,
     "metadata": {},
     "output_type": "execute_result"
    }
   ],
   "source": [
    "data['NCP'].dtypes"
   ]
  },
  {
   "cell_type": "code",
   "execution_count": 21,
   "id": "e1d731b4",
   "metadata": {},
   "outputs": [
    {
     "data": {
      "text/plain": [
       "4.0"
      ]
     },
     "execution_count": 21,
     "metadata": {},
     "output_type": "execute_result"
    }
   ],
   "source": [
    "#Number of main meals NCP\n",
    "data['NCP'].max()"
   ]
  },
  {
   "cell_type": "code",
   "execution_count": 22,
   "id": "83e963d6",
   "metadata": {},
   "outputs": [
    {
     "data": {
      "text/plain": [
       "1.0"
      ]
     },
     "execution_count": 22,
     "metadata": {},
     "output_type": "execute_result"
    }
   ],
   "source": [
    "data['NCP'].min()"
   ]
  },
  {
   "cell_type": "code",
   "execution_count": 23,
   "id": "e807371f",
   "metadata": {},
   "outputs": [
    {
     "data": {
      "text/plain": [
       "array([3.      , 1.      , 4.      , 3.28926 , 3.995147, 1.72626 ,\n",
       "       2.581015, 1.600812, 1.73762 , 1.10548 , 2.0846  , 1.894384,\n",
       "       2.857787, 3.765526, 3.285167, 3.691226, 3.156153, 1.07976 ,\n",
       "       3.559841, 3.891994, 3.240578, 3.904858, 3.11158 , 3.590039,\n",
       "       2.057935, 3.558637, 2.000986, 3.821168, 3.897078, 3.092116,\n",
       "       3.286431, 3.592415, 3.754599, 3.566082, 3.725797, 3.520555,\n",
       "       3.731212, 1.259803, 1.273128, 3.304123, 3.647154, 3.300666,\n",
       "       3.535016, 1.717608, 2.884479, 3.626815, 1.473088, 3.16645 ,\n",
       "       3.494849, 2.99321 , 2.127797, 3.90779 , 3.699594, 3.179995,\n",
       "       1.075553, 3.238258, 3.804944, 1.630846, 3.762778, 3.371832,\n",
       "       2.705445, 3.34175 , 2.217651, 2.893778, 3.502604, 3.998766,\n",
       "       3.193671, 1.69608 , 2.812377, 1.612747, 1.082304, 1.882158,\n",
       "       2.326233, 1.989398, 1.735493, 2.974568, 3.715118, 3.489918,\n",
       "       3.378859, 3.263201, 3.994588, 3.24934 , 3.087544, 1.163666,\n",
       "       3.409363, 3.281391, 3.98525 , 3.207071, 3.471536, 3.488342,\n",
       "       3.443456, 3.03779 , 3.642802, 2.645858, 3.420618, 2.64155 ,\n",
       "       3.887906, 3.435905, 3.747163, 2.625475, 3.098399, 3.12544 ,\n",
       "       3.96981 , 3.712183, 3.832911, 3.576103, 3.56544 , 3.266644,\n",
       "       3.433908, 3.531038, 3.998618, 1.226342, 1.060796, 3.595761,\n",
       "       3.737914, 3.697831, 3.21043 , 3.45259 , 3.205587, 1.513835,\n",
       "       2.779379, 3.732126, 3.937099, 3.047959, 2.975362, 1.394539,\n",
       "       3.131032, 1.578521, 3.985442, 3.623364, 3.36313 , 1.146052,\n",
       "       3.981997, 1.9154  , 2.105616, 3.714833, 3.292386, 1.104642,\n",
       "       3.654061, 1.296156, 2.656588, 2.809716, 2.77684 , 1.999014,\n",
       "       2.644692, 2.449723, 2.794156, 1.146794, 1.131695, 2.488189,\n",
       "       3.999591, 3.612941, 3.950553, 2.951837, 2.799979, 2.228113,\n",
       "       3.042774, 1.198643, 1.555557, 3.987707, 3.995957, 1.047197,\n",
       "       1.193589, 3.390143, 3.546352, 3.266501, 3.554974, 2.372311,\n",
       "       2.10601 , 3.715306, 3.376717, 1.211606, 3.98955 , 3.171082,\n",
       "       3.105007, 1.590982, 1.704828, 2.725012, 2.372339, 1.097312,\n",
       "       1.068196, 1.411685, 2.752318, 2.737571, 2.973504, 2.608055,\n",
       "       2.625942, 1.411808, 1.095223, 3.30846 , 3.821461, 2.658639,\n",
       "       2.339614, 1.713762, 2.743277, 3.051804, 3.245148, 3.563744,\n",
       "       3.829101, 3.058539, 3.196043, 1.391778, 1.13715 , 3.322522,\n",
       "       3.269088, 2.938135, 1.259628, 2.965494, 2.845307, 3.095663,\n",
       "       3.483449, 3.156309, 3.728377, 3.60885 , 3.370362, 2.39007 ,\n",
       "       1.101404, 2.756405, 3.054899, 3.118013, 3.335876, 3.205009,\n",
       "       3.648194, 1.865238, 2.118153, 2.961113, 2.400943, 2.870005,\n",
       "       1.030416, 2.696051, 2.762883, 2.401341, 2.298612, 3.618722,\n",
       "       2.562895, 2.849848, 2.805436, 3.715148, 3.788602, 1.893811,\n",
       "       1.010319, 2.669766, 1.322087, 2.041558, 2.468421, 2.110937,\n",
       "       3.071028, 3.292956, 2.283673, 1.124977, 2.9948  , 2.983297,\n",
       "       1.890213, 1.888067, 2.256119, 2.6648  , 2.547086, 2.812283,\n",
       "       2.278652, 1.240046, 1.660768, 2.597608, 2.044035, 2.038373,\n",
       "       1.474836, 3.986652, 2.720642, 1.976744, 2.679724, 1.619796,\n",
       "       2.59257 , 1.546665, 3.339914, 3.884861, 2.358298, 1.802305,\n",
       "       2.7976  , 2.627173, 1.032887, 3.014808, 2.271734, 2.122545,\n",
       "       2.902766, 2.687502, 1.178708, 2.279546, 2.677693, 3.53009 ,\n",
       "       1.835543, 2.853676, 2.337035, 1.631184, 1.005391, 3.250467,\n",
       "       2.948721, 1.80993 , 1.94671 , 2.9796  , 2.994198, 2.579291,\n",
       "       2.449067, 1.532833, 2.961706, 1.152521, 1.729553, 1.346987,\n",
       "       1.977221, 2.443812, 2.491315, 2.843319, 2.157164, 2.601675,\n",
       "       1.171027, 3.362758, 1.672706, 2.714115, 2.521546, 1.338033,\n",
       "       1.081805, 3.087119, 2.909117, 1.466393, 1.471053, 2.983201,\n",
       "       2.783336, 1.863012, 3.053598, 3.165837, 2.741413, 1.058123,\n",
       "       2.997414, 1.672958, 1.680838, 3.070386, 2.608416, 1.599464,\n",
       "       2.815255, 2.395785, 2.844138, 2.716106, 1.402771, 2.865657,\n",
       "       1.836226, 2.884848, 2.375026, 2.9774  , 2.693646, 2.832018,\n",
       "       2.270163, 2.646717, 1.193729, 1.477581, 3.209508, 2.756622,\n",
       "       2.658478, 1.971472, 1.818026, 1.820779, 1.724887, 3.129155,\n",
       "       3.856434, 2.753418, 2.116195, 2.049908, 1.044628, 2.98212 ,\n",
       "       1.009426, 2.667711, 3.000974, 2.698883, 2.598079, 2.837388,\n",
       "       2.946063, 1.873484, 2.473911, 1.79558 , 2.623079, 2.174968,\n",
       "       2.676148, 3.394788, 2.137068, 2.937607, 1.313403, 2.113575,\n",
       "       2.092179, 2.974204, 1.001633, 1.2919  , 1.139317, 2.029858,\n",
       "       2.977543, 1.476204, 2.57038 , 2.879541, 1.458507, 1.105617,\n",
       "       1.854536, 1.08687 , 1.25535 , 2.870661, 1.482103, 1.81698 ,\n",
       "       2.582591, 2.164839, 2.141839, 2.877583, 2.95833 , 2.119826,\n",
       "       2.992606, 2.050121, 1.923607, 2.27374 , 1.418985, 1.320768,\n",
       "       2.964024, 2.933409, 2.962004, 1.271624, 1.00061 , 1.068443,\n",
       "       2.952821, 1.851088, 2.119682, 2.970675, 2.966803, 1.508685,\n",
       "       2.209314, 1.114564, 2.036794, 2.988539, 1.630506, 2.977999,\n",
       "       2.733077, 2.427137, 1.867836, 1.548407, 2.937989, 1.237454,\n",
       "       1.169173, 2.391753, 2.475444, 2.478794, 2.070033, 2.282392,\n",
       "       1.049534, 1.66338 , 1.672751, 1.734762, 1.92822 , 2.475228,\n",
       "       2.093831, 1.231915, 1.374791, 1.326982, 2.900915, 1.317884,\n",
       "       2.977909, 1.355752, 1.015488, 2.986172, 2.993623, 1.001383,\n",
       "       1.001542, 2.590283, 1.773916, 2.989112, 1.496776, 2.994046,\n",
       "       1.000283, 1.000414, 1.135278, 2.463113, 1.782109, 2.376374,\n",
       "       2.976098, 2.968098, 1.792695, 1.116401, 2.984523, 2.978103,\n",
       "       1.578751, 1.874532, 2.735706, 1.014916, 2.622055, 2.806566,\n",
       "       1.355354, 1.478334, 1.130751, 1.099151, 2.358455, 1.706551,\n",
       "       1.24884 , 1.250548, 1.202179, 1.194815, 2.880817, 2.918124,\n",
       "       1.073421, 1.416309, 2.18162 , 2.152733, 1.046144, 1.974233,\n",
       "       2.880794, 2.765213, 2.967089, 2.37985 , 2.655265, 1.941307,\n",
       "       1.709546, 2.883984, 2.935381, 2.961192, 2.973476, 2.392811,\n",
       "       1.293342, 2.930044, 2.129909, 2.831771, 2.595126, 2.52751 ,\n",
       "       2.120936, 1.468948, 3.990925, 2.834253, 3.734323, 2.049565,\n",
       "       2.272214, 2.218285, 1.418833, 1.109956, 3.914454, 3.169089,\n",
       "       2.419656, 2.175432, 2.806298, 2.987652, 2.842848, 1.134321,\n",
       "       1.924168, 2.701689, 2.992903, 2.658837, 2.80742 , 1.834472,\n",
       "       2.123138, 1.265463, 1.340361, 3.989492, 2.650088, 2.89292 ,\n",
       "       2.938902, 2.986637, 2.701521, 2.014671, 1.971659, 1.311797,\n",
       "       1.262831, 3.770379, 2.87747 , 2.175153, 2.13229 , 2.993634,\n",
       "       2.999346, 2.976211, 2.842035, 1.09749 , 1.91863 , 2.510135,\n",
       "       2.65772 , 2.604998, 2.567567, 2.434347, 1.845858, 1.627555,\n",
       "       1.569176, 2.371658, 2.378211, 2.301129, 2.454432, 2.915921,\n",
       "       2.992083, 2.849347, 2.954446, 3.755976, 2.902639, 2.372705,\n",
       "       2.100918, 2.272801, 2.692889, 2.280545, 2.675411, 1.487674,\n",
       "       1.02075 , 1.240424, 1.154318, 3.219347, 3.656401, 3.220181,\n",
       "       2.850948, 2.187145, 2.415522, 2.138375, 1.077331, 2.888193,\n",
       "       2.574108, 2.740492, 2.956422, 2.749334, 2.993856, 2.993084,\n",
       "       2.989791, 2.920373, 2.911568, 1.134042, 1.120102, 2.040582,\n",
       "       2.015675, 2.711238, 2.695396, 2.996834, 2.996444, 2.894142,\n",
       "       2.683061, 2.806341, 2.791366, 1.703299, 1.685134, 2.269799,\n",
       "       2.142328, 1.437959, 1.343117, 1.213431, 1.089048])"
      ]
     },
     "execution_count": 23,
     "metadata": {},
     "output_type": "execute_result"
    }
   ],
   "source": [
    "#Chech how many unique values are there in NCP column, it should be 3 uniques values \n",
    "unique_categories = data['NCP'].unique()\n",
    "unique_categories\n"
   ]
  },
  {
   "cell_type": "markdown",
   "id": "8571cd55",
   "metadata": {},
   "source": [
    "***The NCP column needs to be corrected***"
   ]
  },
  {
   "cell_type": "code",
   "execution_count": 24,
   "id": "a3cdd2b9",
   "metadata": {},
   "outputs": [],
   "source": [
    "#the fucrion will round the numbers\n",
    "def NCP_round(value):\n",
    "    if 1 <= value <= 1.5:\n",
    "        return 1\n",
    "    elif 1.5 < value <= 2.5:\n",
    "        return 2\n",
    "    elif 2.5 < value <= 4:\n",
    "        return 3\n",
    "    else:\n",
    "        return value  \n",
    "\n",
    "data['NCP'] = data['NCP'].apply(NCP_round)\n"
   ]
  },
  {
   "cell_type": "code",
   "execution_count": 25,
   "id": "48e0ffbd",
   "metadata": {},
   "outputs": [],
   "source": [
    "#Change the type of the column to object \n",
    "data['NCP'] = data['NCP'].astype('object')"
   ]
  },
  {
   "cell_type": "code",
   "execution_count": 26,
   "id": "3088ae65",
   "metadata": {},
   "outputs": [
    {
     "data": {
      "text/plain": [
       "array([3, 1, 2], dtype=object)"
      ]
     },
     "execution_count": 26,
     "metadata": {},
     "output_type": "execute_result"
    }
   ],
   "source": [
    "data['NCP'].unique()"
   ]
  },
  {
   "cell_type": "markdown",
   "id": "c4b4dda9",
   "metadata": {},
   "source": [
    "2.***Frequency of consumption of vegetables FCVC (FCVC is a categorical column and in the survey it has 3 categories)***\n"
   ]
  },
  {
   "cell_type": "markdown",
   "id": "8c43ae6b",
   "metadata": {},
   "source": [
    "***Do you usually eat vegetables in your meals?***"
   ]
  },
  {
   "cell_type": "markdown",
   "id": "91448d59",
   "metadata": {},
   "source": [
    "***Never***"
   ]
  },
  {
   "cell_type": "markdown",
   "id": "a8d944ea",
   "metadata": {},
   "source": [
    "***Sometimes***"
   ]
  },
  {
   "cell_type": "markdown",
   "id": "8c359a65",
   "metadata": {},
   "source": [
    "***Always***"
   ]
  },
  {
   "cell_type": "code",
   "execution_count": 27,
   "id": "0d3ab361",
   "metadata": {},
   "outputs": [
    {
     "data": {
      "text/plain": [
       "dtype('float64')"
      ]
     },
     "execution_count": 27,
     "metadata": {},
     "output_type": "execute_result"
    }
   ],
   "source": [
    "data['FCVC'].dtypes"
   ]
  },
  {
   "cell_type": "code",
   "execution_count": 28,
   "id": "cccd6412",
   "metadata": {},
   "outputs": [
    {
     "data": {
      "text/plain": [
       "1.0"
      ]
     },
     "execution_count": 28,
     "metadata": {},
     "output_type": "execute_result"
    }
   ],
   "source": [
    "data['FCVC'].min()"
   ]
  },
  {
   "cell_type": "code",
   "execution_count": 29,
   "id": "21d40668",
   "metadata": {},
   "outputs": [
    {
     "data": {
      "text/plain": [
       "3.0"
      ]
     },
     "execution_count": 29,
     "metadata": {},
     "output_type": "execute_result"
    }
   ],
   "source": [
    "data['FCVC'].max()"
   ]
  },
  {
   "cell_type": "code",
   "execution_count": 30,
   "id": "4ce6b5ad",
   "metadata": {},
   "outputs": [
    {
     "data": {
      "text/plain": [
       "array([2.      , 3.      , 1.      , 2.450218, 2.880161, 2.00876 ,\n",
       "       2.596579, 2.591439, 2.392665, 1.123939, 2.027574, 2.658112,\n",
       "       2.88626 , 2.714447, 2.750715, 1.4925  , 2.205439, 2.059138,\n",
       "       2.310423, 2.823179, 2.052932, 2.596364, 2.767731, 2.815157,\n",
       "       2.737762, 2.568063, 2.524428, 2.971574, 1.0816  , 1.270448,\n",
       "       1.344854, 2.959658, 2.725282, 2.844607, 2.44004 , 2.432302,\n",
       "       2.592247, 2.449267, 2.929889, 2.015258, 1.031149, 1.592183,\n",
       "       1.21498 , 1.522001, 2.703436, 2.362918, 2.14084 , 2.5596  ,\n",
       "       2.336044, 1.813234, 2.724285, 2.71897 , 1.133844, 1.757466,\n",
       "       2.979383, 2.204914, 2.927218, 2.88853 , 2.890535, 2.530066,\n",
       "       2.241606, 1.003566, 2.652779, 2.897899, 2.483979, 2.945967,\n",
       "       2.478891, 2.784464, 1.005578, 2.938031, 2.842102, 1.889199,\n",
       "       2.943749, 2.33998 , 1.950742, 2.277436, 2.371338, 2.984425,\n",
       "       2.977018, 2.663421, 2.753752, 2.318355, 2.594653, 2.886157,\n",
       "       2.967853, 2.619835, 1.053534, 2.530233, 2.8813  , 2.824559,\n",
       "       2.762325, 2.070964, 2.68601 , 2.794197, 2.720701, 2.880792,\n",
       "       2.674431, 2.55996 , 1.212908, 1.140615, 2.562409, 2.004146,\n",
       "       2.690754, 2.051283, 2.19005 , 2.21498 , 2.91548 , 2.708965,\n",
       "       2.853513, 2.580872, 2.508835, 2.896562, 2.911877, 2.910733,\n",
       "       2.966126, 2.613249, 2.627031, 2.919751, 2.494451, 1.69427 ,\n",
       "       1.601236, 1.204855, 1.052699, 2.910345, 2.866383, 2.913486,\n",
       "       2.432886, 2.883745, 2.707666, 2.919584, 2.969205, 2.486189,\n",
       "       1.642241, 1.567101, 1.036414, 1.649974, 1.118436, 2.673638,\n",
       "       2.120185, 2.34222 , 2.86099 , 2.559571, 2.424977, 1.786841,\n",
       "       1.303878, 1.889883, 2.984004, 2.749268, 1.202075, 1.871213,\n",
       "       2.341133, 1.450218, 1.206276, 2.81646 , 1.758394, 2.577427,\n",
       "       2.052152, 2.954996, 2.555401, 2.108711, 2.915279, 1.570089,\n",
       "       1.94313 , 2.903545, 1.75375 , 2.543563, 2.39728 , 2.37464 ,\n",
       "       2.278644, 1.620845, 2.061952, 2.838969, 2.652958, 1.27785 ,\n",
       "       1.729824, 1.452524, 2.303367, 2.948425, 2.291846, 1.906194,\n",
       "       1.834155, 2.048582, 2.948248, 2.869436, 2.293705, 2.510583,\n",
       "       2.366949, 2.615788, 2.217267, 2.801514, 2.188722, 2.971351,\n",
       "       2.086093, 1.901611, 1.977298, 2.446872, 2.839048, 2.21232 ,\n",
       "       2.427689, 2.357496, 1.078529, 1.064162, 1.993101, 2.620963,\n",
       "       2.95118 , 2.021446, 2.000466, 2.5621  , 2.96008 , 2.53915 ,\n",
       "       2.244142, 2.253371, 2.851664, 1.31415 , 1.321028, 2.253998,\n",
       "       2.778079, 2.838037, 2.814453, 2.013782, 2.459976, 2.643183,\n",
       "       2.22399 , 2.104105, 1.972545, 2.286481, 2.971588, 2.872121,\n",
       "       2.109162, 2.178889, 1.142468, 2.047069, 2.843709, 2.416044,\n",
       "       2.146598, 1.766849, 1.188089, 1.910176, 2.956671, 2.002796,\n",
       "       2.288604, 2.277077, 2.138334, 2.029634, 2.048216, 2.8557  ,\n",
       "       2.995599, 2.987148, 1.887951, 2.786008, 2.342323, 1.874935,\n",
       "       2.213135, 2.273548, 2.780699, 1.687569, 1.989905, 1.947405,\n",
       "       2.162519, 2.923916, 2.99448 , 2.507841, 1.836554, 1.773265,\n",
       "       2.388168, 2.286146, 2.487167, 2.185938, 2.206399, 1.952987,\n",
       "       2.908757, 2.628791, 2.749629, 1.595746, 2.885178, 2.372494,\n",
       "       2.153639, 2.793561, 2.992329, 2.927409, 2.706134, 2.010684,\n",
       "       2.300408, 2.119643, 2.901924, 2.451009, 2.754646, 2.417635,\n",
       "       2.512719, 1.771693, 1.57223 , 2.661556, 2.097373, 2.061461,\n",
       "       1.317729, 1.882235, 2.951591, 2.067817, 2.54527 , 2.694281,\n",
       "       2.821977, 2.252472, 2.033745, 2.595128, 2.759286, 1.925064,\n",
       "       2.846981, 2.650629, 2.631565, 2.522399, 2.784471, 1.650505,\n",
       "       1.961347, 2.133955, 2.684528, 2.265973, 1.306844, 2.258795,\n",
       "       2.689929, 2.712747, 2.353603, 2.598051, 1.718156, 2.795086,\n",
       "       2.030256, 2.493448, 2.442536, 2.003951, 1.34138 , 2.607335,\n",
       "       2.061384, 2.696381, 1.116068, 2.116432, 2.031246, 2.884212,\n",
       "       2.444599, 2.976975, 2.766036, 1.096455, 2.129969, 2.019674,\n",
       "       2.735297, 1.588782, 2.01054 , 2.689577, 2.413156, 2.923433,\n",
       "       2.882522, 1.973499, 2.156065, 2.992205, 2.944287, 1.780746,\n",
       "       2.164062, 2.247704, 2.011656, 2.03414 , 2.746408, 2.1239  ,\n",
       "       2.332074, 2.748243, 2.303656, 1.904732, 1.979944, 2.407817,\n",
       "       2.734314, 2.784383, 2.009952, 2.008656, 1.122127, 1.963965,\n",
       "       2.319776, 1.899116, 2.042762, 2.129668, 2.182401, 2.802696,\n",
       "       2.492758, 2.733129, 2.294067, 2.315932, 2.802128, 2.79606 ,\n",
       "       2.086898, 2.333503, 1.653081, 2.535315, 2.765769, 2.215464,\n",
       "       2.63165 , 2.942154, 2.716909, 1.83746 , 1.936479, 2.045027,\n",
       "       2.760607, 2.09449 , 2.907062, 2.399531, 1.521604, 2.501683,\n",
       "       2.76802 , 2.742796, 2.325623, 2.076689, 2.271306, 2.33361 ,\n",
       "       2.13683 , 2.909853, 2.490507, 1.063449, 2.699282, 2.4277  ,\n",
       "       2.87599 , 2.177243, 2.846452, 2.19011 , 2.069267, 1.362441,\n",
       "       2.09663 , 2.928234, 2.496455, 1.70825 , 2.262171, 2.740633,\n",
       "       1.081585, 2.587789, 2.252653, 2.036613, 2.609123, 1.036159,\n",
       "       1.851262, 2.501236, 2.031185, 2.014194, 2.028225, 2.037585,\n",
       "       1.853314, 1.00876 , 2.103335, 2.060922, 2.058687, 2.533605,\n",
       "       2.457547, 2.983851, 2.061969, 2.450784, 2.972426, 2.467002,\n",
       "       2.934671, 2.043359, 2.787589, 2.150054, 2.977585, 2.274491,\n",
       "       1.557287, 2.152264, 2.08841 , 2.180047, 1.826885, 1.754401,\n",
       "       1.524428, 1.164062, 2.123159, 2.259679, 2.044326, 2.843456,\n",
       "       2.864776, 2.871137, 2.282803, 2.020502, 2.020785, 2.737149,\n",
       "       1.899793, 2.274164, 1.897796, 2.85916 , 2.340405, 2.921576,\n",
       "       2.92711 , 2.805533, 2.902469, 2.845961, 2.252698, 2.02091 ,\n",
       "       2.108163, 1.518966, 2.260543, 2.522183, 2.186322, 2.76632 ,\n",
       "       2.071622, 1.918251, 1.967061, 2.964419, 2.640801, 2.870152,\n",
       "       2.482575, 2.290095, 2.074843, 2.14128 , 2.334474, 2.693859,\n",
       "       2.607747, 2.66889 , 2.921225, 1.492834, 1.220024, 2.667676,\n",
       "       2.569075, 2.949242, 2.104772, 2.871768, 2.540949, 2.222282,\n",
       "       2.04516 , 2.094184, 1.123672, 2.049112, 1.880534, 1.203754,\n",
       "       2.73691 , 2.736628, 2.121909, 2.642744, 2.387426, 1.996638,\n",
       "       2.107854, 2.253707, 2.393837, 2.348745, 2.312825, 2.490776,\n",
       "       2.078082, 2.805512, 1.276858, 2.396265, 2.663866, 2.685484,\n",
       "       2.055209, 2.025479, 2.002564, 2.385502, 2.465575, 2.818502,\n",
       "       2.081238, 1.368978, 1.712848, 1.3307  , 1.961069, 2.976509,\n",
       "       2.319648, 1.261288, 2.76533 , 2.317734, 1.588114, 2.549782,\n",
       "       2.206276, 2.18354 , 2.962415, 1.99124 , 2.408561, 2.758394,\n",
       "       2.956297, 1.369529, 1.392665, 2.630401, 2.869778, 1.868212,\n",
       "       1.108663, 2.907744, 2.95801 , 2.197261, 2.048962, 2.139196,\n",
       "       2.72989 , 1.994679, 2.403421, 2.964319, 1.617093, 1.631144,\n",
       "       2.317459, 2.501224, 2.983042, 2.323351, 1.428289, 1.992889,\n",
       "       1.562804, 1.794825, 2.305349, 2.576449, 2.754645, 2.633855,\n",
       "       2.200588, 2.499108, 2.05687 , 2.247795, 2.239634, 2.09283 ,\n",
       "       2.9673  , 2.225731, 2.178308, 2.065752, 2.263245, 2.443538,\n",
       "       2.744994, 2.630137, 2.113843, 2.821727, 2.312528, 2.938801,\n",
       "       2.050619, 1.457758, 2.19331 , 2.028571, 1.455602, 2.177896,\n",
       "       2.252382, 2.668949, 2.723953, 2.736298, 2.722161, 2.871016,\n",
       "       2.96405 , 2.653721, 2.859097, 1.572036, 1.387489, 2.941929,\n",
       "       2.973569, 2.041376, 2.02472 , 2.133964, 2.702457, 1.760038,\n",
       "       1.996646, 2.644094, 2.475892, 2.941627, 2.998441, 2.397284,\n",
       "       2.382705, 2.176317, 2.877743, 2.303041, 2.323003, 1.99953 ,\n",
       "       1.585183, 2.281963, 2.561638, 2.600217, 2.79166 , 2.08868 ,\n",
       "       2.206119, 2.328469, 2.002784, 1.975675, 2.002076, 2.218599,\n",
       "       2.392179, 2.381164, 2.008245, 2.155182, 2.969233, 2.765063,\n",
       "       2.195964, 2.619987, 2.918113, 2.889485, 2.939727, 1.264234,\n",
       "       1.517912, 2.23372 , 1.475906, 2.032883, 2.046651, 2.667229,\n",
       "       2.819934, 2.954417, 2.826251, 2.95841 , 2.935157, 2.870895,\n",
       "       2.869833, 1.878251, 1.750809, 1.168856, 1.443674, 2.826036,\n",
       "       2.9553  , 2.774562, 2.772027, 2.499626, 2.108638, 2.467548,\n",
       "       2.585942, 2.14961 , 2.938616, 2.535154, 2.611222, 1.800122,\n",
       "       1.482722, 1.735664, 1.655684, 2.598207, 2.225149, 2.519592,\n",
       "       2.111887, 2.970983, 2.907542, 1.451337, 1.537505, 1.893428,\n",
       "       2.007845, 2.487781, 2.541785, 2.813775, 2.562687, 2.922511,\n",
       "       2.836055, 2.880759, 2.766441, 2.997524, 2.320201, 2.181057,\n",
       "       1.924632, 1.397468, 2.191429, 2.100177, 2.075321, 1.626369,\n",
       "       1.263216, 1.067909, 2.310751, 2.294259, 2.57649 , 2.679664,\n",
       "       2.938687, 2.654792, 2.731368, 2.22259 , 2.432355, 2.497548,\n",
       "       2.671238, 2.57691 , 2.341999, 2.117121, 2.247037, 2.244654,\n",
       "       2.128574, 2.068834, 2.073224, 2.145114, 2.997951, 2.911312,\n",
       "       2.159033, 2.175276, 2.21965 , 2.203962, 1.947495, 2.262292,\n",
       "       2.219186, 2.314175, 2.423291, 2.637202, 2.974006, 2.347942,\n",
       "       2.654076, 2.739   , 2.591292, 2.611847, 2.766612, 2.777165,\n",
       "       2.232836, 2.571274, 2.49619 , 2.151335, 2.01695 , 2.927187,\n",
       "       1.412566, 1.289315, 1.624366, 1.528331, 2.037042, 2.191108,\n",
       "       1.431346, 1.84199 , 2.499388, 2.230742, 2.240757, 2.996186,\n",
       "       2.649406, 2.525884, 2.736647, 2.684335, 2.425503, 1.469384,\n",
       "       2.906269, 2.808027, 2.636719, 2.996717, 2.880483, 2.885693,\n",
       "       2.913452, 2.919526, 2.724121, 2.801992, 2.748971, 2.680375])"
      ]
     },
     "execution_count": 30,
     "metadata": {},
     "output_type": "execute_result"
    }
   ],
   "source": [
    "#Fequency of consumption of vegetables\n",
    "data['FCVC'].unique()"
   ]
  },
  {
   "cell_type": "markdown",
   "id": "0645fbef",
   "metadata": {},
   "source": [
    "***The FCVC column needs to be corrected***"
   ]
  },
  {
   "cell_type": "code",
   "execution_count": 31,
   "id": "1ba43d42",
   "metadata": {},
   "outputs": [],
   "source": [
    "# using rounding we round the numbers from 1 to 1.5 category 1, from 1.5 to 2.5 category 2 and from 2.5 to 3 category 3\n",
    "def rounding(value):\n",
    "    if 1 <= value <= 1.5:\n",
    "        return 1\n",
    "    elif 1.5 < value <= 2.5:\n",
    "        return 2\n",
    "    elif 2.5 < value <= 3:\n",
    "        return 3\n",
    "    else:\n",
    "        return value \n",
    "\n",
    "data['FCVC'] = data['FCVC'].apply(rounding)"
   ]
  },
  {
   "cell_type": "code",
   "execution_count": 32,
   "id": "95ad362f",
   "metadata": {},
   "outputs": [],
   "source": [
    "#Change the type of the column to object \n",
    "data['FCVC'] = data['FCVC'].astype('object')"
   ]
  },
  {
   "cell_type": "code",
   "execution_count": 33,
   "id": "648fa5f0",
   "metadata": {},
   "outputs": [
    {
     "data": {
      "text/plain": [
       "array([2, 3, 1], dtype=object)"
      ]
     },
     "execution_count": 33,
     "metadata": {},
     "output_type": "execute_result"
    }
   ],
   "source": [
    "data['FCVC'].unique()"
   ]
  },
  {
   "cell_type": "markdown",
   "id": "50ff35c0",
   "metadata": {},
   "source": [
    "***3.Consumption of water daily (CH20)*** "
   ]
  },
  {
   "cell_type": "markdown",
   "id": "cd905e12",
   "metadata": {},
   "source": [
    "***How much water do you drink daily?***"
   ]
  },
  {
   "cell_type": "markdown",
   "id": "6b5239c4",
   "metadata": {},
   "source": [
    "***Less than a liter***"
   ]
  },
  {
   "cell_type": "markdown",
   "id": "4b4d4296",
   "metadata": {},
   "source": [
    "***Between 1 and 2 L***"
   ]
  },
  {
   "cell_type": "markdown",
   "id": "858c98a0",
   "metadata": {},
   "source": [
    "***More than 2 L***"
   ]
  },
  {
   "cell_type": "code",
   "execution_count": 34,
   "id": "20588576",
   "metadata": {},
   "outputs": [
    {
     "data": {
      "text/plain": [
       "dtype('float64')"
      ]
     },
     "execution_count": 34,
     "metadata": {},
     "output_type": "execute_result"
    }
   ],
   "source": [
    "data['CH2O'].dtypes"
   ]
  },
  {
   "cell_type": "code",
   "execution_count": 35,
   "id": "63cb3d30",
   "metadata": {},
   "outputs": [
    {
     "data": {
      "text/plain": [
       "1.0"
      ]
     },
     "execution_count": 35,
     "metadata": {},
     "output_type": "execute_result"
    }
   ],
   "source": [
    "#Consumption of water daily \n",
    "data['CH2O'].min()"
   ]
  },
  {
   "cell_type": "code",
   "execution_count": 36,
   "id": "1e504e34",
   "metadata": {},
   "outputs": [
    {
     "data": {
      "text/plain": [
       "3.0"
      ]
     },
     "execution_count": 36,
     "metadata": {},
     "output_type": "execute_result"
    }
   ],
   "source": [
    "data['CH2O'].max()"
   ]
  },
  {
   "cell_type": "code",
   "execution_count": 37,
   "id": "73498365",
   "metadata": {},
   "outputs": [
    {
     "data": {
      "text/plain": [
       "array([2.      , 3.      , 1.      , ..., 2.054193, 2.852339, 2.863513])"
      ]
     },
     "execution_count": 37,
     "metadata": {},
     "output_type": "execute_result"
    }
   ],
   "source": [
    "data['CH2O'].unique()"
   ]
  },
  {
   "cell_type": "markdown",
   "id": "246462e1",
   "metadata": {},
   "source": [
    "***CH20 needs to be corrected***"
   ]
  },
  {
   "cell_type": "code",
   "execution_count": 38,
   "id": "111a0ac8",
   "metadata": {},
   "outputs": [],
   "source": [
    "data['CH2O'] = data['CH2O'].apply(rounding)"
   ]
  },
  {
   "cell_type": "code",
   "execution_count": 39,
   "id": "69f9ca97",
   "metadata": {},
   "outputs": [],
   "source": [
    "#Change the type of the column to object \n",
    "data['CH2O'] = data['CH2O'].astype('object')"
   ]
  },
  {
   "cell_type": "code",
   "execution_count": 40,
   "id": "1371973d",
   "metadata": {},
   "outputs": [
    {
     "data": {
      "text/plain": [
       "array([2, 3, 1], dtype=object)"
      ]
     },
     "execution_count": 40,
     "metadata": {},
     "output_type": "execute_result"
    }
   ],
   "source": [
    "data['CH2O'].unique()"
   ]
  },
  {
   "cell_type": "markdown",
   "id": "dcefb026",
   "metadata": {},
   "source": [
    "***4-Physical activity frequency (FAF)***"
   ]
  },
  {
   "cell_type": "markdown",
   "id": "054d0f8e",
   "metadata": {},
   "source": [
    "***How often do you have physical activity?***"
   ]
  },
  {
   "cell_type": "markdown",
   "id": "0dfadea5",
   "metadata": {},
   "source": [
    "***I do not have***"
   ]
  },
  {
   "cell_type": "markdown",
   "id": "1d277fc3",
   "metadata": {},
   "source": [
    "***1 or 2 days***"
   ]
  },
  {
   "cell_type": "markdown",
   "id": "bd75a6b2",
   "metadata": {},
   "source": [
    "***2 or 4 days***"
   ]
  },
  {
   "cell_type": "markdown",
   "id": "afa09fb4",
   "metadata": {},
   "source": [
    "***4 or 5 days***"
   ]
  },
  {
   "cell_type": "code",
   "execution_count": 41,
   "id": "0992e89b",
   "metadata": {},
   "outputs": [
    {
     "data": {
      "text/plain": [
       "0.0"
      ]
     },
     "execution_count": 41,
     "metadata": {},
     "output_type": "execute_result"
    }
   ],
   "source": [
    "data['FAF'].min()"
   ]
  },
  {
   "cell_type": "code",
   "execution_count": 42,
   "id": "9a000d1e",
   "metadata": {},
   "outputs": [
    {
     "data": {
      "text/plain": [
       "3.0"
      ]
     },
     "execution_count": 42,
     "metadata": {},
     "output_type": "execute_result"
    }
   ],
   "source": [
    "data['FAF'].max()"
   ]
  },
  {
   "cell_type": "code",
   "execution_count": 43,
   "id": "14e5ed75",
   "metadata": {},
   "outputs": [
    {
     "data": {
      "text/plain": [
       "array([0.      , 3.      , 2.      , ..., 1.414209, 1.139107, 1.026452])"
      ]
     },
     "execution_count": 43,
     "metadata": {},
     "output_type": "execute_result"
    }
   ],
   "source": [
    "#Physical activity frequency\n",
    "data['FAF'].unique()"
   ]
  },
  {
   "cell_type": "markdown",
   "id": "f2550dd6",
   "metadata": {},
   "source": [
    "***FAF needs to be corrected***"
   ]
  },
  {
   "cell_type": "code",
   "execution_count": 44,
   "id": "2e3e9182",
   "metadata": {},
   "outputs": [],
   "source": [
    "def FAF_round(value):\n",
    "    if 0 <= value < 1:\n",
    "        return 0\n",
    "    elif 1 <= value <= 1.5:\n",
    "        return 1\n",
    "    elif 1.5 < value <= 2:\n",
    "        return 2\n",
    "    elif 2 < value <= 3:\n",
    "        return 3\n",
    "\n",
    "data['FAF'] = data['FAF'].apply(FAF_round)"
   ]
  },
  {
   "cell_type": "code",
   "execution_count": 45,
   "id": "0237a80f",
   "metadata": {},
   "outputs": [],
   "source": [
    "#Change the type of the column to object \n",
    "data['FAF'] = data['FAF'].astype('object')"
   ]
  },
  {
   "cell_type": "code",
   "execution_count": 46,
   "id": "7877cc0a",
   "metadata": {},
   "outputs": [
    {
     "data": {
      "text/plain": [
       "array([0, 3, 2, 1], dtype=object)"
      ]
     },
     "execution_count": 46,
     "metadata": {},
     "output_type": "execute_result"
    }
   ],
   "source": [
    "data['FAF'].unique()"
   ]
  },
  {
   "cell_type": "markdown",
   "id": "ae6b6d74",
   "metadata": {},
   "source": [
    "***5-Time using technology devices***"
   ]
  },
  {
   "cell_type": "markdown",
   "id": "e61ee170",
   "metadata": {},
   "source": [
    "***How much time do you use technological devices such as cell phone, videogames, television, computer and others?***"
   ]
  },
  {
   "cell_type": "markdown",
   "id": "74d3f1f5",
   "metadata": {},
   "source": [
    "***0–2 hours***"
   ]
  },
  {
   "cell_type": "markdown",
   "id": "2c9a0def",
   "metadata": {},
   "source": [
    "***3–5 hours***"
   ]
  },
  {
   "cell_type": "markdown",
   "id": "2cec0f4f",
   "metadata": {},
   "source": [
    "***More than 5 hours***"
   ]
  },
  {
   "cell_type": "code",
   "execution_count": 47,
   "id": "e42323b7",
   "metadata": {},
   "outputs": [
    {
     "data": {
      "text/plain": [
       "0.0"
      ]
     },
     "execution_count": 47,
     "metadata": {},
     "output_type": "execute_result"
    }
   ],
   "source": [
    "#Time using technology devices \n",
    "data['TUE'].min()"
   ]
  },
  {
   "cell_type": "code",
   "execution_count": 48,
   "id": "a67f19df",
   "metadata": {},
   "outputs": [
    {
     "data": {
      "text/plain": [
       "2.0"
      ]
     },
     "execution_count": 48,
     "metadata": {},
     "output_type": "execute_result"
    }
   ],
   "source": [
    "data['TUE'].max()"
   ]
  },
  {
   "cell_type": "code",
   "execution_count": 49,
   "id": "427a68cc",
   "metadata": {},
   "outputs": [
    {
     "data": {
      "text/plain": [
       "array([1.      , 0.      , 2.      , ..., 0.646288, 0.586035, 0.714137])"
      ]
     },
     "execution_count": 49,
     "metadata": {},
     "output_type": "execute_result"
    }
   ],
   "source": [
    "data['TUE'].unique()"
   ]
  },
  {
   "cell_type": "markdown",
   "id": "7bcba61a",
   "metadata": {},
   "source": [
    "***TUE needs to be corrected***"
   ]
  },
  {
   "cell_type": "code",
   "execution_count": 50,
   "id": "77bad125",
   "metadata": {},
   "outputs": [],
   "source": [
    "def TUE_rounding(value):\n",
    "    if 0 <= value < 1:\n",
    "        return 0\n",
    "    elif 1 <= value <= 1.5:\n",
    "        return 1\n",
    "    elif 1.5 < value <= 2:\n",
    "        return 2\n",
    "    else:\n",
    "        return value \n",
    "\n",
    "data['TUE'] = data['TUE'].apply(TUE_rounding)"
   ]
  },
  {
   "cell_type": "code",
   "execution_count": 51,
   "id": "52d96323",
   "metadata": {},
   "outputs": [],
   "source": [
    "#Change the type of the column to object \n",
    "data['TUE'] = data['TUE'].astype('object')"
   ]
  },
  {
   "cell_type": "code",
   "execution_count": 52,
   "id": "39641513",
   "metadata": {},
   "outputs": [
    {
     "data": {
      "text/plain": [
       "array([1, 0, 2], dtype=object)"
      ]
     },
     "execution_count": 52,
     "metadata": {},
     "output_type": "execute_result"
    }
   ],
   "source": [
    "data['TUE'].unique()"
   ]
  },
  {
   "cell_type": "markdown",
   "id": "cdb4d2b1",
   "metadata": {},
   "source": [
    "***6-Transportation used MTRANS***"
   ]
  },
  {
   "cell_type": "markdown",
   "id": "6dff8167",
   "metadata": {},
   "source": [
    "***Which transportation do you usually use?***"
   ]
  },
  {
   "cell_type": "markdown",
   "id": "ca4d40bb",
   "metadata": {},
   "source": [
    "***Automobile***"
   ]
  },
  {
   "cell_type": "markdown",
   "id": "910d9bfb",
   "metadata": {},
   "source": [
    "***Motorbike***"
   ]
  },
  {
   "cell_type": "markdown",
   "id": "0bf039de",
   "metadata": {},
   "source": [
    "***Bike***"
   ]
  },
  {
   "cell_type": "markdown",
   "id": "f25087ff",
   "metadata": {},
   "source": [
    "***Public Transportation***"
   ]
  },
  {
   "cell_type": "markdown",
   "id": "0d216f4e",
   "metadata": {},
   "source": [
    "***Walking***"
   ]
  },
  {
   "cell_type": "code",
   "execution_count": 53,
   "id": "7bc8c69d",
   "metadata": {},
   "outputs": [
    {
     "data": {
      "text/plain": [
       "array(['Public_Transportation', 'Walking', 'Automobile', 'Motorbike',\n",
       "       'Bike'], dtype=object)"
      ]
     },
     "execution_count": 53,
     "metadata": {},
     "output_type": "execute_result"
    }
   ],
   "source": [
    "#Transportation used\n",
    "data['MTRANS'].unique()"
   ]
  },
  {
   "cell_type": "markdown",
   "id": "71df647f",
   "metadata": {},
   "source": [
    "***7-What is your gender?***\n"
   ]
  },
  {
   "cell_type": "markdown",
   "id": "04a1e0ea",
   "metadata": {},
   "source": [
    "***Female***\n"
   ]
  },
  {
   "cell_type": "markdown",
   "id": "77424787",
   "metadata": {},
   "source": [
    "***Male***"
   ]
  },
  {
   "cell_type": "code",
   "execution_count": 54,
   "id": "eb28cebf",
   "metadata": {},
   "outputs": [
    {
     "data": {
      "text/plain": [
       "array(['Female', 'Male'], dtype=object)"
      ]
     },
     "execution_count": 54,
     "metadata": {},
     "output_type": "execute_result"
    }
   ],
   "source": [
    "data['Gender'].unique()"
   ]
  },
  {
   "cell_type": "code",
   "execution_count": 55,
   "id": "1291b90d",
   "metadata": {},
   "outputs": [
    {
     "name": "stdout",
     "output_type": "stream",
     "text": [
      "The column Gender doesnt have errors\n"
     ]
    }
   ],
   "source": [
    "print('The column Gender doesnt have errors')"
   ]
  },
  {
   "cell_type": "markdown",
   "id": "77b4a3be",
   "metadata": {},
   "source": [
    "***8-Has a family member suffered or suffers from overweight?***"
   ]
  },
  {
   "cell_type": "markdown",
   "id": "5eabcd79",
   "metadata": {},
   "source": [
    "***Yes***"
   ]
  },
  {
   "cell_type": "markdown",
   "id": "465d1b78",
   "metadata": {},
   "source": [
    "***No***"
   ]
  },
  {
   "cell_type": "code",
   "execution_count": 56,
   "id": "3599fcf5",
   "metadata": {},
   "outputs": [
    {
     "data": {
      "text/plain": [
       "array(['yes', 'no'], dtype=object)"
      ]
     },
     "execution_count": 56,
     "metadata": {},
     "output_type": "execute_result"
    }
   ],
   "source": [
    "data['family_history_with_overweight'].unique()"
   ]
  },
  {
   "cell_type": "code",
   "execution_count": 57,
   "id": "da22acf1",
   "metadata": {},
   "outputs": [
    {
     "name": "stdout",
     "output_type": "stream",
     "text": [
      "The column family_history_with_overweight doesnt have errors\n"
     ]
    }
   ],
   "source": [
    "print('The column family_history_with_overweight doesnt have errors')"
   ]
  },
  {
   "cell_type": "markdown",
   "id": "31a83cbc",
   "metadata": {},
   "source": [
    "***9-Frequent consumption of high caloric food FAVC***"
   ]
  },
  {
   "cell_type": "markdown",
   "id": "c946e5ee",
   "metadata": {},
   "source": [
    "***Yes***"
   ]
  },
  {
   "cell_type": "markdown",
   "id": "f4ba7e5d",
   "metadata": {},
   "source": [
    "***No***"
   ]
  },
  {
   "cell_type": "code",
   "execution_count": 58,
   "id": "0073ed87",
   "metadata": {},
   "outputs": [
    {
     "data": {
      "text/plain": [
       "array(['no', 'yes'], dtype=object)"
      ]
     },
     "execution_count": 58,
     "metadata": {},
     "output_type": "execute_result"
    }
   ],
   "source": [
    "#frequent consumption of high caloric food \n",
    "data['FAVC'].unique()"
   ]
  },
  {
   "cell_type": "code",
   "execution_count": 59,
   "id": "345e769e",
   "metadata": {},
   "outputs": [
    {
     "name": "stdout",
     "output_type": "stream",
     "text": [
      "FAVC is clean\n"
     ]
    }
   ],
   "source": [
    "print('FAVC is clean')"
   ]
  },
  {
   "cell_type": "markdown",
   "id": "036dfe62",
   "metadata": {},
   "source": [
    "***10-Consumption of food between meals CAEC***"
   ]
  },
  {
   "cell_type": "markdown",
   "id": "2bbbb9cc",
   "metadata": {},
   "source": [
    "***Do you eat any food between meals?***"
   ]
  },
  {
   "cell_type": "markdown",
   "id": "c2051616",
   "metadata": {},
   "source": [
    "***No***"
   ]
  },
  {
   "cell_type": "markdown",
   "id": "5eaaeabf",
   "metadata": {},
   "source": [
    "***Sometimes***"
   ]
  },
  {
   "cell_type": "markdown",
   "id": "0230eea2",
   "metadata": {},
   "source": [
    "***Frequently***"
   ]
  },
  {
   "cell_type": "markdown",
   "id": "dd02ee53",
   "metadata": {},
   "source": [
    "***Always***"
   ]
  },
  {
   "cell_type": "code",
   "execution_count": 60,
   "id": "ddadaec4",
   "metadata": {},
   "outputs": [
    {
     "data": {
      "text/plain": [
       "array(['Sometimes', 'Frequently', 'Always', 'no'], dtype=object)"
      ]
     },
     "execution_count": 60,
     "metadata": {},
     "output_type": "execute_result"
    }
   ],
   "source": [
    "#Consumption of food between meals \n",
    "data['CAEC'].unique()"
   ]
  },
  {
   "cell_type": "code",
   "execution_count": 61,
   "id": "9de872b9",
   "metadata": {},
   "outputs": [
    {
     "name": "stdout",
     "output_type": "stream",
     "text": [
      "The column CAEC is clean\n"
     ]
    }
   ],
   "source": [
    "print('The column CAEC is clean')"
   ]
  },
  {
   "cell_type": "markdown",
   "id": "e98f141a",
   "metadata": {},
   "source": [
    "***11-Smoke***"
   ]
  },
  {
   "cell_type": "markdown",
   "id": "64683e3c",
   "metadata": {},
   "source": [
    "***Do you smoke?***"
   ]
  },
  {
   "cell_type": "markdown",
   "id": "3949652b",
   "metadata": {},
   "source": [
    "***Yes***"
   ]
  },
  {
   "cell_type": "markdown",
   "id": "b01534b5",
   "metadata": {},
   "source": [
    "***No***"
   ]
  },
  {
   "cell_type": "code",
   "execution_count": 62,
   "id": "1e99713c",
   "metadata": {},
   "outputs": [
    {
     "data": {
      "text/plain": [
       "array(['no', 'yes'], dtype=object)"
      ]
     },
     "execution_count": 62,
     "metadata": {},
     "output_type": "execute_result"
    }
   ],
   "source": [
    "data['SMOKE'].unique()"
   ]
  },
  {
   "cell_type": "code",
   "execution_count": 63,
   "id": "2c07d950",
   "metadata": {},
   "outputs": [
    {
     "name": "stdout",
     "output_type": "stream",
     "text": [
      "SMOKE column is clean\n"
     ]
    }
   ],
   "source": [
    "print('SMOKE column is clean')"
   ]
  },
  {
   "cell_type": "markdown",
   "id": "1acaa5fb",
   "metadata": {},
   "source": [
    "***12-Calories consumption monitoring (SCC)***"
   ]
  },
  {
   "cell_type": "markdown",
   "id": "b2fc76c5",
   "metadata": {},
   "source": [
    "***Do you eat high caloric food frequently?***"
   ]
  },
  {
   "cell_type": "markdown",
   "id": "76432a83",
   "metadata": {},
   "source": [
    "***Yes***"
   ]
  },
  {
   "cell_type": "markdown",
   "id": "d92744f7",
   "metadata": {},
   "source": [
    "***No***"
   ]
  },
  {
   "cell_type": "code",
   "execution_count": 64,
   "id": "f8a6ed11",
   "metadata": {},
   "outputs": [
    {
     "data": {
      "text/plain": [
       "array(['no', 'yes'], dtype=object)"
      ]
     },
     "execution_count": 64,
     "metadata": {},
     "output_type": "execute_result"
    }
   ],
   "source": [
    "#Calories consumption monitoring\n",
    "data['SCC'].unique()"
   ]
  },
  {
   "cell_type": "code",
   "execution_count": 65,
   "id": "d7173d4c",
   "metadata": {},
   "outputs": [
    {
     "name": "stdout",
     "output_type": "stream",
     "text": [
      "SCC column is clean\n"
     ]
    }
   ],
   "source": [
    "print('SCC column is clean')"
   ]
  },
  {
   "cell_type": "markdown",
   "id": "36c907a1",
   "metadata": {},
   "source": [
    "***13-Consumption of alcohol (CALC)***"
   ]
  },
  {
   "cell_type": "markdown",
   "id": "94513258",
   "metadata": {},
   "source": [
    "***how often do you drink alcohol?***"
   ]
  },
  {
   "cell_type": "markdown",
   "id": "26e3d54c",
   "metadata": {},
   "source": [
    "***I do not drink***"
   ]
  },
  {
   "cell_type": "markdown",
   "id": "fde271f9",
   "metadata": {},
   "source": [
    "***Sometimes***"
   ]
  },
  {
   "cell_type": "markdown",
   "id": "f2f80036",
   "metadata": {},
   "source": [
    "***Frequently***"
   ]
  },
  {
   "cell_type": "markdown",
   "id": "6ed0c345",
   "metadata": {},
   "source": [
    "***Always***"
   ]
  },
  {
   "cell_type": "code",
   "execution_count": 66,
   "id": "bb7c529f",
   "metadata": {},
   "outputs": [
    {
     "data": {
      "text/plain": [
       "array(['no', 'Sometimes', 'Frequently', 'Always'], dtype=object)"
      ]
     },
     "execution_count": 66,
     "metadata": {},
     "output_type": "execute_result"
    }
   ],
   "source": [
    "#Consumption of alcohol\n",
    "data['CALC'].unique()"
   ]
  },
  {
   "cell_type": "code",
   "execution_count": 67,
   "id": "7ee2b996",
   "metadata": {},
   "outputs": [
    {
     "name": "stdout",
     "output_type": "stream",
     "text": [
      "CALC is a clean column\n"
     ]
    }
   ],
   "source": [
    "print('CALC is a clean column')"
   ]
  },
  {
   "cell_type": "markdown",
   "id": "367c1a4c",
   "metadata": {},
   "source": [
    "***14-Height***"
   ]
  },
  {
   "cell_type": "markdown",
   "id": "2064739c",
   "metadata": {},
   "source": [
    "***what is your height?*** "
   ]
  },
  {
   "cell_type": "markdown",
   "id": "9d414e90",
   "metadata": {},
   "source": [
    "***Numeric value in meters***"
   ]
  },
  {
   "cell_type": "code",
   "execution_count": 68,
   "id": "1accabff",
   "metadata": {},
   "outputs": [
    {
     "data": {
      "text/plain": [
       "1.45"
      ]
     },
     "execution_count": 68,
     "metadata": {},
     "output_type": "execute_result"
    }
   ],
   "source": [
    "data['Height'].min()"
   ]
  },
  {
   "cell_type": "code",
   "execution_count": 69,
   "id": "a36b56b4",
   "metadata": {},
   "outputs": [
    {
     "data": {
      "text/plain": [
       "1.98"
      ]
     },
     "execution_count": 69,
     "metadata": {},
     "output_type": "execute_result"
    }
   ],
   "source": [
    "data['Height'].max()"
   ]
  },
  {
   "cell_type": "code",
   "execution_count": 70,
   "id": "b55b72d4",
   "metadata": {},
   "outputs": [
    {
     "data": {
      "text/plain": [
       "dtype('float64')"
      ]
     },
     "execution_count": 70,
     "metadata": {},
     "output_type": "execute_result"
    }
   ],
   "source": [
    "data['Height'].dtypes"
   ]
  },
  {
   "cell_type": "code",
   "execution_count": 71,
   "id": "9a96dfd8",
   "metadata": {},
   "outputs": [
    {
     "name": "stdout",
     "output_type": "stream",
     "text": [
      "The Height is entered in meter and dosent have any issue doesnt need to be converted\n"
     ]
    }
   ],
   "source": [
    "print('The Height is entered in meter and dosent have any issue doesnt need to be converted')"
   ]
  },
  {
   "cell_type": "markdown",
   "id": "b8971950",
   "metadata": {},
   "source": [
    "***15-Weight***"
   ]
  },
  {
   "cell_type": "markdown",
   "id": "6f2e869f",
   "metadata": {},
   "source": [
    "***what is your weight?***"
   ]
  },
  {
   "cell_type": "markdown",
   "id": "34b96286",
   "metadata": {},
   "source": [
    "***Numeric value in kilograms***"
   ]
  },
  {
   "cell_type": "code",
   "execution_count": 72,
   "id": "023e27eb",
   "metadata": {},
   "outputs": [
    {
     "data": {
      "text/plain": [
       "173.0"
      ]
     },
     "execution_count": 72,
     "metadata": {},
     "output_type": "execute_result"
    }
   ],
   "source": [
    "data['Weight'].max()"
   ]
  },
  {
   "cell_type": "code",
   "execution_count": 73,
   "id": "7513c6ca",
   "metadata": {},
   "outputs": [
    {
     "data": {
      "text/plain": [
       "39.0"
      ]
     },
     "execution_count": 73,
     "metadata": {},
     "output_type": "execute_result"
    }
   ],
   "source": [
    "data['Weight'].min()"
   ]
  },
  {
   "cell_type": "code",
   "execution_count": 74,
   "id": "d8602523",
   "metadata": {},
   "outputs": [
    {
     "data": {
      "text/plain": [
       "dtype('float64')"
      ]
     },
     "execution_count": 74,
     "metadata": {},
     "output_type": "execute_result"
    }
   ],
   "source": [
    "data['Weight'].dtypes"
   ]
  },
  {
   "cell_type": "code",
   "execution_count": 75,
   "id": "7f317590",
   "metadata": {},
   "outputs": [
    {
     "name": "stdout",
     "output_type": "stream",
     "text": [
      "Weight column dosent have any issue\n"
     ]
    }
   ],
   "source": [
    "print('Weight column dosent have any issue')"
   ]
  },
  {
   "cell_type": "markdown",
   "id": "21f2e6c8",
   "metadata": {},
   "source": [
    "***16-Age***"
   ]
  },
  {
   "cell_type": "markdown",
   "id": "5172fc80",
   "metadata": {},
   "source": [
    "***what is your age?***"
   ]
  },
  {
   "cell_type": "markdown",
   "id": "d71e3ce7",
   "metadata": {},
   "source": [
    "***Numeric value***"
   ]
  },
  {
   "cell_type": "code",
   "execution_count": 76,
   "id": "090a09c1",
   "metadata": {},
   "outputs": [
    {
     "data": {
      "text/plain": [
       "dtype('float64')"
      ]
     },
     "execution_count": 76,
     "metadata": {},
     "output_type": "execute_result"
    }
   ],
   "source": [
    "data['Age'].dtypes"
   ]
  },
  {
   "cell_type": "code",
   "execution_count": 77,
   "id": "3f7df2a6",
   "metadata": {},
   "outputs": [
    {
     "data": {
      "text/plain": [
       "14.0"
      ]
     },
     "execution_count": 77,
     "metadata": {},
     "output_type": "execute_result"
    }
   ],
   "source": [
    "data['Age'].min()"
   ]
  },
  {
   "cell_type": "code",
   "execution_count": 78,
   "id": "9accc055",
   "metadata": {},
   "outputs": [
    {
     "data": {
      "text/plain": [
       "61.0"
      ]
     },
     "execution_count": 78,
     "metadata": {},
     "output_type": "execute_result"
    }
   ],
   "source": [
    "data['Age'].max()"
   ]
  },
  {
   "cell_type": "code",
   "execution_count": 79,
   "id": "2fd2c15d",
   "metadata": {},
   "outputs": [
    {
     "name": "stdout",
     "output_type": "stream",
     "text": [
      "The Age column is clean and it matches the paper that mentions the ages of the participants are between 14 and 61\n"
     ]
    }
   ],
   "source": [
    "print('The Age column is clean and it matches the paper that mentions the ages of the participants are between 14 and 61')"
   ]
  },
  {
   "cell_type": "markdown",
   "id": "b370eafc",
   "metadata": {},
   "source": [
    "***The columns MTRANS, Gender, Age, Height, Weight, family_history_with_overweight, CAEC, SMOKE, CALC are clean and dont have any iassues.***"
   ]
  },
  {
   "cell_type": "code",
   "execution_count": 80,
   "id": "bd5d6604",
   "metadata": {},
   "outputs": [
    {
     "data": {
      "text/html": [
       "<div>\n",
       "<style scoped>\n",
       "    .dataframe tbody tr th:only-of-type {\n",
       "        vertical-align: middle;\n",
       "    }\n",
       "\n",
       "    .dataframe tbody tr th {\n",
       "        vertical-align: top;\n",
       "    }\n",
       "\n",
       "    .dataframe thead th {\n",
       "        text-align: right;\n",
       "    }\n",
       "</style>\n",
       "<table border=\"1\" class=\"dataframe\">\n",
       "  <thead>\n",
       "    <tr style=\"text-align: right;\">\n",
       "      <th></th>\n",
       "      <th>Gender</th>\n",
       "      <th>Age</th>\n",
       "      <th>Height</th>\n",
       "      <th>Weight</th>\n",
       "      <th>family_history_with_overweight</th>\n",
       "      <th>FAVC</th>\n",
       "      <th>FCVC</th>\n",
       "      <th>NCP</th>\n",
       "      <th>CAEC</th>\n",
       "      <th>SMOKE</th>\n",
       "      <th>CH2O</th>\n",
       "      <th>SCC</th>\n",
       "      <th>FAF</th>\n",
       "      <th>TUE</th>\n",
       "      <th>CALC</th>\n",
       "      <th>MTRANS</th>\n",
       "      <th>BMI</th>\n",
       "      <th>Classes</th>\n",
       "    </tr>\n",
       "  </thead>\n",
       "  <tbody>\n",
       "    <tr>\n",
       "      <th>0</th>\n",
       "      <td>Female</td>\n",
       "      <td>21.0</td>\n",
       "      <td>1.62</td>\n",
       "      <td>64.0</td>\n",
       "      <td>yes</td>\n",
       "      <td>no</td>\n",
       "      <td>2</td>\n",
       "      <td>3</td>\n",
       "      <td>Sometimes</td>\n",
       "      <td>no</td>\n",
       "      <td>2</td>\n",
       "      <td>no</td>\n",
       "      <td>0</td>\n",
       "      <td>1</td>\n",
       "      <td>no</td>\n",
       "      <td>Public_Transportation</td>\n",
       "      <td>24.39</td>\n",
       "      <td>Normal_Weight</td>\n",
       "    </tr>\n",
       "    <tr>\n",
       "      <th>1</th>\n",
       "      <td>Female</td>\n",
       "      <td>21.0</td>\n",
       "      <td>1.52</td>\n",
       "      <td>56.0</td>\n",
       "      <td>yes</td>\n",
       "      <td>no</td>\n",
       "      <td>3</td>\n",
       "      <td>3</td>\n",
       "      <td>Sometimes</td>\n",
       "      <td>yes</td>\n",
       "      <td>3</td>\n",
       "      <td>yes</td>\n",
       "      <td>3</td>\n",
       "      <td>0</td>\n",
       "      <td>Sometimes</td>\n",
       "      <td>Public_Transportation</td>\n",
       "      <td>24.24</td>\n",
       "      <td>Normal_Weight</td>\n",
       "    </tr>\n",
       "    <tr>\n",
       "      <th>2</th>\n",
       "      <td>Male</td>\n",
       "      <td>23.0</td>\n",
       "      <td>1.80</td>\n",
       "      <td>77.0</td>\n",
       "      <td>yes</td>\n",
       "      <td>no</td>\n",
       "      <td>2</td>\n",
       "      <td>3</td>\n",
       "      <td>Sometimes</td>\n",
       "      <td>no</td>\n",
       "      <td>2</td>\n",
       "      <td>no</td>\n",
       "      <td>2</td>\n",
       "      <td>1</td>\n",
       "      <td>Frequently</td>\n",
       "      <td>Public_Transportation</td>\n",
       "      <td>23.77</td>\n",
       "      <td>Normal_Weight</td>\n",
       "    </tr>\n",
       "    <tr>\n",
       "      <th>3</th>\n",
       "      <td>Male</td>\n",
       "      <td>27.0</td>\n",
       "      <td>1.80</td>\n",
       "      <td>87.0</td>\n",
       "      <td>no</td>\n",
       "      <td>no</td>\n",
       "      <td>3</td>\n",
       "      <td>3</td>\n",
       "      <td>Sometimes</td>\n",
       "      <td>no</td>\n",
       "      <td>2</td>\n",
       "      <td>no</td>\n",
       "      <td>2</td>\n",
       "      <td>0</td>\n",
       "      <td>Frequently</td>\n",
       "      <td>Walking</td>\n",
       "      <td>26.85</td>\n",
       "      <td>Overweight</td>\n",
       "    </tr>\n",
       "    <tr>\n",
       "      <th>4</th>\n",
       "      <td>Male</td>\n",
       "      <td>22.0</td>\n",
       "      <td>1.78</td>\n",
       "      <td>89.8</td>\n",
       "      <td>no</td>\n",
       "      <td>no</td>\n",
       "      <td>2</td>\n",
       "      <td>1</td>\n",
       "      <td>Sometimes</td>\n",
       "      <td>no</td>\n",
       "      <td>2</td>\n",
       "      <td>no</td>\n",
       "      <td>0</td>\n",
       "      <td>0</td>\n",
       "      <td>Sometimes</td>\n",
       "      <td>Public_Transportation</td>\n",
       "      <td>28.34</td>\n",
       "      <td>Overweight</td>\n",
       "    </tr>\n",
       "  </tbody>\n",
       "</table>\n",
       "</div>"
      ],
      "text/plain": [
       "   Gender   Age  Height  Weight family_history_with_overweight FAVC FCVC NCP  \\\n",
       "0  Female  21.0    1.62    64.0                            yes   no    2   3   \n",
       "1  Female  21.0    1.52    56.0                            yes   no    3   3   \n",
       "2    Male  23.0    1.80    77.0                            yes   no    2   3   \n",
       "3    Male  27.0    1.80    87.0                             no   no    3   3   \n",
       "4    Male  22.0    1.78    89.8                             no   no    2   1   \n",
       "\n",
       "        CAEC SMOKE CH2O  SCC FAF TUE        CALC                 MTRANS  \\\n",
       "0  Sometimes    no    2   no   0   1          no  Public_Transportation   \n",
       "1  Sometimes   yes    3  yes   3   0   Sometimes  Public_Transportation   \n",
       "2  Sometimes    no    2   no   2   1  Frequently  Public_Transportation   \n",
       "3  Sometimes    no    2   no   2   0  Frequently                Walking   \n",
       "4  Sometimes    no    2   no   0   0   Sometimes  Public_Transportation   \n",
       "\n",
       "     BMI        Classes  \n",
       "0  24.39  Normal_Weight  \n",
       "1  24.24  Normal_Weight  \n",
       "2  23.77  Normal_Weight  \n",
       "3  26.85     Overweight  \n",
       "4  28.34     Overweight  "
      ]
     },
     "execution_count": 80,
     "metadata": {},
     "output_type": "execute_result"
    }
   ],
   "source": [
    "data.head()"
   ]
  },
  {
   "cell_type": "code",
   "execution_count": 81,
   "id": "36a75646",
   "metadata": {},
   "outputs": [],
   "source": [
    "# Save the new DataFrame to a CSV file\n",
    "data.to_csv('modified_data.csv', index=False)"
   ]
  },
  {
   "cell_type": "code",
   "execution_count": 82,
   "id": "770c2597",
   "metadata": {},
   "outputs": [
    {
     "data": {
      "text/html": [
       "<div>\n",
       "<style scoped>\n",
       "    .dataframe tbody tr th:only-of-type {\n",
       "        vertical-align: middle;\n",
       "    }\n",
       "\n",
       "    .dataframe tbody tr th {\n",
       "        vertical-align: top;\n",
       "    }\n",
       "\n",
       "    .dataframe thead th {\n",
       "        text-align: right;\n",
       "    }\n",
       "</style>\n",
       "<table border=\"1\" class=\"dataframe\">\n",
       "  <thead>\n",
       "    <tr style=\"text-align: right;\">\n",
       "      <th></th>\n",
       "      <th>Gender</th>\n",
       "      <th>Age</th>\n",
       "      <th>Height</th>\n",
       "      <th>Weight</th>\n",
       "      <th>family_history_with_overweight</th>\n",
       "      <th>FAVC</th>\n",
       "      <th>FCVC</th>\n",
       "      <th>NCP</th>\n",
       "      <th>CAEC</th>\n",
       "      <th>SMOKE</th>\n",
       "      <th>CH2O</th>\n",
       "      <th>SCC</th>\n",
       "      <th>FAF</th>\n",
       "      <th>TUE</th>\n",
       "      <th>CALC</th>\n",
       "      <th>MTRANS</th>\n",
       "      <th>BMI</th>\n",
       "      <th>Classes</th>\n",
       "    </tr>\n",
       "  </thead>\n",
       "  <tbody>\n",
       "    <tr>\n",
       "      <th>0</th>\n",
       "      <td>Female</td>\n",
       "      <td>21.0</td>\n",
       "      <td>1.62</td>\n",
       "      <td>64.0</td>\n",
       "      <td>yes</td>\n",
       "      <td>no</td>\n",
       "      <td>2</td>\n",
       "      <td>3</td>\n",
       "      <td>Sometimes</td>\n",
       "      <td>no</td>\n",
       "      <td>2</td>\n",
       "      <td>no</td>\n",
       "      <td>0</td>\n",
       "      <td>1</td>\n",
       "      <td>no</td>\n",
       "      <td>Public_Transportation</td>\n",
       "      <td>24.39</td>\n",
       "      <td>Normal_Weight</td>\n",
       "    </tr>\n",
       "    <tr>\n",
       "      <th>1</th>\n",
       "      <td>Female</td>\n",
       "      <td>21.0</td>\n",
       "      <td>1.52</td>\n",
       "      <td>56.0</td>\n",
       "      <td>yes</td>\n",
       "      <td>no</td>\n",
       "      <td>3</td>\n",
       "      <td>3</td>\n",
       "      <td>Sometimes</td>\n",
       "      <td>yes</td>\n",
       "      <td>3</td>\n",
       "      <td>yes</td>\n",
       "      <td>3</td>\n",
       "      <td>0</td>\n",
       "      <td>Sometimes</td>\n",
       "      <td>Public_Transportation</td>\n",
       "      <td>24.24</td>\n",
       "      <td>Normal_Weight</td>\n",
       "    </tr>\n",
       "    <tr>\n",
       "      <th>2</th>\n",
       "      <td>Male</td>\n",
       "      <td>23.0</td>\n",
       "      <td>1.80</td>\n",
       "      <td>77.0</td>\n",
       "      <td>yes</td>\n",
       "      <td>no</td>\n",
       "      <td>2</td>\n",
       "      <td>3</td>\n",
       "      <td>Sometimes</td>\n",
       "      <td>no</td>\n",
       "      <td>2</td>\n",
       "      <td>no</td>\n",
       "      <td>2</td>\n",
       "      <td>1</td>\n",
       "      <td>Frequently</td>\n",
       "      <td>Public_Transportation</td>\n",
       "      <td>23.77</td>\n",
       "      <td>Normal_Weight</td>\n",
       "    </tr>\n",
       "    <tr>\n",
       "      <th>3</th>\n",
       "      <td>Male</td>\n",
       "      <td>27.0</td>\n",
       "      <td>1.80</td>\n",
       "      <td>87.0</td>\n",
       "      <td>no</td>\n",
       "      <td>no</td>\n",
       "      <td>3</td>\n",
       "      <td>3</td>\n",
       "      <td>Sometimes</td>\n",
       "      <td>no</td>\n",
       "      <td>2</td>\n",
       "      <td>no</td>\n",
       "      <td>2</td>\n",
       "      <td>0</td>\n",
       "      <td>Frequently</td>\n",
       "      <td>Walking</td>\n",
       "      <td>26.85</td>\n",
       "      <td>Overweight</td>\n",
       "    </tr>\n",
       "    <tr>\n",
       "      <th>4</th>\n",
       "      <td>Male</td>\n",
       "      <td>22.0</td>\n",
       "      <td>1.78</td>\n",
       "      <td>89.8</td>\n",
       "      <td>no</td>\n",
       "      <td>no</td>\n",
       "      <td>2</td>\n",
       "      <td>1</td>\n",
       "      <td>Sometimes</td>\n",
       "      <td>no</td>\n",
       "      <td>2</td>\n",
       "      <td>no</td>\n",
       "      <td>0</td>\n",
       "      <td>0</td>\n",
       "      <td>Sometimes</td>\n",
       "      <td>Public_Transportation</td>\n",
       "      <td>28.34</td>\n",
       "      <td>Overweight</td>\n",
       "    </tr>\n",
       "  </tbody>\n",
       "</table>\n",
       "</div>"
      ],
      "text/plain": [
       "   Gender   Age  Height  Weight family_history_with_overweight FAVC  FCVC  \\\n",
       "0  Female  21.0    1.62    64.0                            yes   no     2   \n",
       "1  Female  21.0    1.52    56.0                            yes   no     3   \n",
       "2    Male  23.0    1.80    77.0                            yes   no     2   \n",
       "3    Male  27.0    1.80    87.0                             no   no     3   \n",
       "4    Male  22.0    1.78    89.8                             no   no     2   \n",
       "\n",
       "   NCP       CAEC SMOKE  CH2O  SCC  FAF  TUE        CALC  \\\n",
       "0    3  Sometimes    no     2   no    0    1          no   \n",
       "1    3  Sometimes   yes     3  yes    3    0   Sometimes   \n",
       "2    3  Sometimes    no     2   no    2    1  Frequently   \n",
       "3    3  Sometimes    no     2   no    2    0  Frequently   \n",
       "4    1  Sometimes    no     2   no    0    0   Sometimes   \n",
       "\n",
       "                  MTRANS    BMI        Classes  \n",
       "0  Public_Transportation  24.39  Normal_Weight  \n",
       "1  Public_Transportation  24.24  Normal_Weight  \n",
       "2  Public_Transportation  23.77  Normal_Weight  \n",
       "3                Walking  26.85     Overweight  \n",
       "4  Public_Transportation  28.34     Overweight  "
      ]
     },
     "execution_count": 82,
     "metadata": {},
     "output_type": "execute_result"
    }
   ],
   "source": [
    "df=pd.read_csv('modified_data.csv')\n",
    "df.head()"
   ]
  },
  {
   "cell_type": "code",
   "execution_count": 83,
   "id": "ee460614",
   "metadata": {},
   "outputs": [
    {
     "name": "stdout",
     "output_type": "stream",
     "text": [
      "Classes\n",
      "Insufficient_Weight    18.49\n",
      "Normal_Weight          24.95\n",
      "Obesity_Type_I         34.95\n",
      "Obesity_Type_II        39.94\n",
      "Obesity_Type_III       50.81\n",
      "Overweight             29.99\n",
      "Name: BMI, dtype: float64\n",
      "Classes\n",
      "Insufficient_Weight    13.00\n",
      "Normal_Weight          18.50\n",
      "Obesity_Type_I         30.02\n",
      "Obesity_Type_II        35.00\n",
      "Obesity_Type_III       40.01\n",
      "Overweight             25.00\n",
      "Name: BMI, dtype: float64\n"
     ]
    }
   ],
   "source": [
    "#Check that there isnt any errors on the modified data \n",
    "# Group by the 'Category' column and get the minimum BMI for each category\n",
    "min_bmi_by_category = df.groupby('Classes')['BMI'].max()\n",
    "\n",
    "print(min_bmi_by_category)\n",
    "\n",
    "# Group by the 'Category' column and get the minimum BMI for each category\n",
    "min_bmi_by_category = df.groupby('Classes')['BMI'].min()\n",
    "\n",
    "print(min_bmi_by_category)"
   ]
  },
  {
   "cell_type": "code",
   "execution_count": 84,
   "id": "a5622df7",
   "metadata": {},
   "outputs": [
    {
     "data": {
      "text/plain": [
       "array(['Normal_Weight', 'Overweight', 'Obesity_Type_I',\n",
       "       'Insufficient_Weight', 'Obesity_Type_II', 'Obesity_Type_III'],\n",
       "      dtype=object)"
      ]
     },
     "execution_count": 84,
     "metadata": {},
     "output_type": "execute_result"
    }
   ],
   "source": [
    "df['Classes'].unique()"
   ]
  },
  {
   "cell_type": "code",
   "execution_count": 85,
   "id": "24ccd8e8",
   "metadata": {},
   "outputs": [
    {
     "data": {
      "text/plain": [
       "array([3, 1, 2], dtype=object)"
      ]
     },
     "execution_count": 85,
     "metadata": {},
     "output_type": "execute_result"
    }
   ],
   "source": [
    "data['NCP'].unique()"
   ]
  },
  {
   "cell_type": "code",
   "execution_count": 86,
   "id": "f02800e8",
   "metadata": {},
   "outputs": [
    {
     "data": {
      "text/plain": [
       "array([3, 1, 2], dtype=int64)"
      ]
     },
     "execution_count": 86,
     "metadata": {},
     "output_type": "execute_result"
    }
   ],
   "source": [
    "df['NCP'].unique()"
   ]
  },
  {
   "cell_type": "code",
   "execution_count": 87,
   "id": "f186d7d9",
   "metadata": {},
   "outputs": [
    {
     "data": {
      "text/plain": [
       "array([2, 3, 1], dtype=int64)"
      ]
     },
     "execution_count": 87,
     "metadata": {},
     "output_type": "execute_result"
    }
   ],
   "source": [
    "df['FCVC'].unique()"
   ]
  },
  {
   "cell_type": "code",
   "execution_count": 88,
   "id": "0034c1cc",
   "metadata": {},
   "outputs": [
    {
     "data": {
      "text/plain": [
       "array([2, 3, 1], dtype=int64)"
      ]
     },
     "execution_count": 88,
     "metadata": {},
     "output_type": "execute_result"
    }
   ],
   "source": [
    "df['CH2O'].unique()"
   ]
  },
  {
   "cell_type": "code",
   "execution_count": 89,
   "id": "0a6fd775",
   "metadata": {},
   "outputs": [
    {
     "data": {
      "text/plain": [
       "array([0, 3, 2, 1], dtype=int64)"
      ]
     },
     "execution_count": 89,
     "metadata": {},
     "output_type": "execute_result"
    }
   ],
   "source": [
    "df['FAF'].unique()"
   ]
  },
  {
   "cell_type": "code",
   "execution_count": 90,
   "id": "3bec9ec0",
   "metadata": {},
   "outputs": [
    {
     "data": {
      "text/plain": [
       "array([1, 0, 2], dtype=int64)"
      ]
     },
     "execution_count": 90,
     "metadata": {},
     "output_type": "execute_result"
    }
   ],
   "source": [
    "df['TUE'].unique()\n"
   ]
  },
  {
   "cell_type": "code",
   "execution_count": 91,
   "id": "c1a50124",
   "metadata": {},
   "outputs": [
    {
     "data": {
      "text/html": [
       "<div>\n",
       "<style scoped>\n",
       "    .dataframe tbody tr th:only-of-type {\n",
       "        vertical-align: middle;\n",
       "    }\n",
       "\n",
       "    .dataframe tbody tr th {\n",
       "        vertical-align: top;\n",
       "    }\n",
       "\n",
       "    .dataframe thead th {\n",
       "        text-align: right;\n",
       "    }\n",
       "</style>\n",
       "<table border=\"1\" class=\"dataframe\">\n",
       "  <thead>\n",
       "    <tr style=\"text-align: right;\">\n",
       "      <th></th>\n",
       "      <th>Gender</th>\n",
       "      <th>Age</th>\n",
       "      <th>Height</th>\n",
       "      <th>Weight</th>\n",
       "      <th>family_history_with_overweight</th>\n",
       "      <th>FAVC</th>\n",
       "      <th>FCVC</th>\n",
       "      <th>NCP</th>\n",
       "      <th>CAEC</th>\n",
       "      <th>SMOKE</th>\n",
       "      <th>CH2O</th>\n",
       "      <th>SCC</th>\n",
       "      <th>FAF</th>\n",
       "      <th>TUE</th>\n",
       "      <th>CALC</th>\n",
       "      <th>MTRANS</th>\n",
       "      <th>BMI</th>\n",
       "      <th>Classes</th>\n",
       "    </tr>\n",
       "  </thead>\n",
       "  <tbody>\n",
       "    <tr>\n",
       "      <th>0</th>\n",
       "      <td>Female</td>\n",
       "      <td>21.0</td>\n",
       "      <td>1.62</td>\n",
       "      <td>64.0</td>\n",
       "      <td>yes</td>\n",
       "      <td>no</td>\n",
       "      <td>Sometimes</td>\n",
       "      <td>More than three</td>\n",
       "      <td>Sometimes</td>\n",
       "      <td>no</td>\n",
       "      <td>Between 1 and 2 L</td>\n",
       "      <td>no</td>\n",
       "      <td>I do not have</td>\n",
       "      <td>3–5 hours</td>\n",
       "      <td>no</td>\n",
       "      <td>Public_Transportation</td>\n",
       "      <td>24.39</td>\n",
       "      <td>Normal_Weight</td>\n",
       "    </tr>\n",
       "    <tr>\n",
       "      <th>1</th>\n",
       "      <td>Female</td>\n",
       "      <td>21.0</td>\n",
       "      <td>1.52</td>\n",
       "      <td>56.0</td>\n",
       "      <td>yes</td>\n",
       "      <td>no</td>\n",
       "      <td>Always</td>\n",
       "      <td>More than three</td>\n",
       "      <td>Sometimes</td>\n",
       "      <td>yes</td>\n",
       "      <td>More than 2 L</td>\n",
       "      <td>yes</td>\n",
       "      <td>4 or 5 days</td>\n",
       "      <td>0–2 hours</td>\n",
       "      <td>Sometimes</td>\n",
       "      <td>Public_Transportation</td>\n",
       "      <td>24.24</td>\n",
       "      <td>Normal_Weight</td>\n",
       "    </tr>\n",
       "    <tr>\n",
       "      <th>2</th>\n",
       "      <td>Male</td>\n",
       "      <td>23.0</td>\n",
       "      <td>1.80</td>\n",
       "      <td>77.0</td>\n",
       "      <td>yes</td>\n",
       "      <td>no</td>\n",
       "      <td>Sometimes</td>\n",
       "      <td>More than three</td>\n",
       "      <td>Sometimes</td>\n",
       "      <td>no</td>\n",
       "      <td>Between 1 and 2 L</td>\n",
       "      <td>no</td>\n",
       "      <td>2 or 4 days</td>\n",
       "      <td>3–5 hours</td>\n",
       "      <td>Frequently</td>\n",
       "      <td>Public_Transportation</td>\n",
       "      <td>23.77</td>\n",
       "      <td>Normal_Weight</td>\n",
       "    </tr>\n",
       "    <tr>\n",
       "      <th>3</th>\n",
       "      <td>Male</td>\n",
       "      <td>27.0</td>\n",
       "      <td>1.80</td>\n",
       "      <td>87.0</td>\n",
       "      <td>no</td>\n",
       "      <td>no</td>\n",
       "      <td>Always</td>\n",
       "      <td>More than three</td>\n",
       "      <td>Sometimes</td>\n",
       "      <td>no</td>\n",
       "      <td>Between 1 and 2 L</td>\n",
       "      <td>no</td>\n",
       "      <td>2 or 4 days</td>\n",
       "      <td>0–2 hours</td>\n",
       "      <td>Frequently</td>\n",
       "      <td>Walking</td>\n",
       "      <td>26.85</td>\n",
       "      <td>Overweight</td>\n",
       "    </tr>\n",
       "    <tr>\n",
       "      <th>4</th>\n",
       "      <td>Male</td>\n",
       "      <td>22.0</td>\n",
       "      <td>1.78</td>\n",
       "      <td>89.8</td>\n",
       "      <td>no</td>\n",
       "      <td>no</td>\n",
       "      <td>Sometimes</td>\n",
       "      <td>Between 1 and 2</td>\n",
       "      <td>Sometimes</td>\n",
       "      <td>no</td>\n",
       "      <td>Between 1 and 2 L</td>\n",
       "      <td>no</td>\n",
       "      <td>I do not have</td>\n",
       "      <td>0–2 hours</td>\n",
       "      <td>Sometimes</td>\n",
       "      <td>Public_Transportation</td>\n",
       "      <td>28.34</td>\n",
       "      <td>Overweight</td>\n",
       "    </tr>\n",
       "  </tbody>\n",
       "</table>\n",
       "</div>"
      ],
      "text/plain": [
       "   Gender   Age  Height  Weight family_history_with_overweight FAVC  \\\n",
       "0  Female  21.0    1.62    64.0                            yes   no   \n",
       "1  Female  21.0    1.52    56.0                            yes   no   \n",
       "2    Male  23.0    1.80    77.0                            yes   no   \n",
       "3    Male  27.0    1.80    87.0                             no   no   \n",
       "4    Male  22.0    1.78    89.8                             no   no   \n",
       "\n",
       "        FCVC              NCP       CAEC SMOKE               CH2O  SCC  \\\n",
       "0  Sometimes  More than three  Sometimes    no  Between 1 and 2 L   no   \n",
       "1     Always  More than three  Sometimes   yes      More than 2 L  yes   \n",
       "2  Sometimes  More than three  Sometimes    no  Between 1 and 2 L   no   \n",
       "3     Always  More than three  Sometimes    no  Between 1 and 2 L   no   \n",
       "4  Sometimes  Between 1 and 2  Sometimes    no  Between 1 and 2 L   no   \n",
       "\n",
       "             FAF        TUE        CALC                 MTRANS    BMI  \\\n",
       "0  I do not have  3–5 hours          no  Public_Transportation  24.39   \n",
       "1    4 or 5 days  0–2 hours   Sometimes  Public_Transportation  24.24   \n",
       "2    2 or 4 days  3–5 hours  Frequently  Public_Transportation  23.77   \n",
       "3    2 or 4 days  0–2 hours  Frequently                Walking  26.85   \n",
       "4  I do not have  0–2 hours   Sometimes  Public_Transportation  28.34   \n",
       "\n",
       "         Classes  \n",
       "0  Normal_Weight  \n",
       "1  Normal_Weight  \n",
       "2  Normal_Weight  \n",
       "3     Overweight  \n",
       "4     Overweight  "
      ]
     },
     "execution_count": 91,
     "metadata": {},
     "output_type": "execute_result"
    }
   ],
   "source": [
    "new_data=pd.read_csv('tableau_file.csv')\n",
    "new_data.head()"
   ]
  },
  {
   "cell_type": "code",
   "execution_count": 92,
   "id": "ccf60e62",
   "metadata": {},
   "outputs": [
    {
     "data": {
      "text/plain": [
       "array(['Sometimes', 'Always', 'Never'], dtype=object)"
      ]
     },
     "execution_count": 92,
     "metadata": {},
     "output_type": "execute_result"
    }
   ],
   "source": [
    "new_data['FCVC'].unique()"
   ]
  },
  {
   "cell_type": "code",
   "execution_count": 93,
   "id": "8280c9a4",
   "metadata": {},
   "outputs": [
    {
     "data": {
      "text/plain": [
       "Sometimes    1013\n",
       "Always        996\n",
       "Never         102\n",
       "Name: FCVC, dtype: int64"
      ]
     },
     "execution_count": 93,
     "metadata": {},
     "output_type": "execute_result"
    }
   ],
   "source": [
    "new_data['FCVC'].value_counts()"
   ]
  },
  {
   "cell_type": "code",
   "execution_count": 94,
   "id": "72ba9467",
   "metadata": {},
   "outputs": [
    {
     "data": {
      "text/plain": [
       "More than three    1619\n",
       "Between 1 and 2     316\n",
       "Three               176\n",
       "Name: NCP, dtype: int64"
      ]
     },
     "execution_count": 94,
     "metadata": {},
     "output_type": "execute_result"
    }
   ],
   "source": [
    "new_data['NCP'].value_counts()"
   ]
  },
  {
   "cell_type": "code",
   "execution_count": 95,
   "id": "d0b479c5",
   "metadata": {},
   "outputs": [
    {
     "data": {
      "text/plain": [
       "yes    1866\n",
       "no      245\n",
       "Name: FAVC, dtype: int64"
      ]
     },
     "execution_count": 95,
     "metadata": {},
     "output_type": "execute_result"
    }
   ],
   "source": [
    "new_data['FAVC'].value_counts()"
   ]
  },
  {
   "cell_type": "code",
   "execution_count": 96,
   "id": "b1ba513e",
   "metadata": {},
   "outputs": [
    {
     "data": {
      "text/plain": [
       "Between 1 and 2 L    1110\n",
       "More than 2 L         516\n",
       "Less than a liter     485\n",
       "Name: CH2O, dtype: int64"
      ]
     },
     "execution_count": 96,
     "metadata": {},
     "output_type": "execute_result"
    }
   ],
   "source": [
    "new_data['CH2O'].value_counts()"
   ]
  },
  {
   "cell_type": "code",
   "execution_count": 97,
   "id": "7a8dae63",
   "metadata": {},
   "outputs": [
    {
     "data": {
      "text/plain": [
       "Sometimes     1401\n",
       "no             639\n",
       "Frequently      70\n",
       "Always           1\n",
       "Name: CALC, dtype: int64"
      ]
     },
     "execution_count": 97,
     "metadata": {},
     "output_type": "execute_result"
    }
   ],
   "source": [
    "new_data['CALC'].value_counts()"
   ]
  },
  {
   "cell_type": "code",
   "execution_count": 98,
   "id": "7333f1d3",
   "metadata": {},
   "outputs": [
    {
     "data": {
      "text/plain": [
       "no     2015\n",
       "yes      96\n",
       "Name: SCC, dtype: int64"
      ]
     },
     "execution_count": 98,
     "metadata": {},
     "output_type": "execute_result"
    }
   ],
   "source": [
    "new_data['SCC'].value_counts()"
   ]
  },
  {
   "cell_type": "code",
   "execution_count": 99,
   "id": "99d24c7e",
   "metadata": {},
   "outputs": [
    {
     "data": {
      "text/plain": [
       "I do not have    1011\n",
       "1 or 2 days       485\n",
       "2 or 4 days       422\n",
       "4 or 5 days       193\n",
       "Name: FAF, dtype: int64"
      ]
     },
     "execution_count": 99,
     "metadata": {},
     "output_type": "execute_result"
    }
   ],
   "source": [
    "new_data['FAF'].value_counts()"
   ]
  },
  {
   "cell_type": "code",
   "execution_count": 100,
   "id": "d2584d60",
   "metadata": {},
   "outputs": [
    {
     "data": {
      "text/plain": [
       "Public_Transportation    1580\n",
       "Automobile                457\n",
       "Walking                    56\n",
       "Motorbike                  11\n",
       "Bike                        7\n",
       "Name: MTRANS, dtype: int64"
      ]
     },
     "execution_count": 100,
     "metadata": {},
     "output_type": "execute_result"
    }
   ],
   "source": [
    "new_data['MTRANS'].value_counts()"
   ]
  },
  {
   "cell_type": "code",
   "execution_count": 101,
   "id": "e9f3eecf",
   "metadata": {},
   "outputs": [
    {
     "data": {
      "text/plain": [
       "no     2067\n",
       "yes      44\n",
       "Name: SMOKE, dtype: int64"
      ]
     },
     "execution_count": 101,
     "metadata": {},
     "output_type": "execute_result"
    }
   ],
   "source": [
    "new_data['SMOKE'].value_counts()"
   ]
  },
  {
   "cell_type": "code",
   "execution_count": 102,
   "id": "60c0814f",
   "metadata": {},
   "outputs": [
    {
     "data": {
      "text/plain": [
       "Male      1068\n",
       "Female    1043\n",
       "Name: Gender, dtype: int64"
      ]
     },
     "execution_count": 102,
     "metadata": {},
     "output_type": "execute_result"
    }
   ],
   "source": [
    "new_data['Gender'].value_counts()"
   ]
  },
  {
   "cell_type": "code",
   "execution_count": 103,
   "id": "e67c4fe4",
   "metadata": {},
   "outputs": [
    {
     "data": {
      "text/plain": [
       "yes    1726\n",
       "no      385\n",
       "Name: family_history_with_overweight, dtype: int64"
      ]
     },
     "execution_count": 103,
     "metadata": {},
     "output_type": "execute_result"
    }
   ],
   "source": [
    "new_data['family_history_with_overweight'].value_counts()"
   ]
  },
  {
   "cell_type": "code",
   "execution_count": 104,
   "id": "e27e699f",
   "metadata": {},
   "outputs": [
    {
     "data": {
      "text/plain": [
       "Sometimes     1765\n",
       "Frequently     242\n",
       "Always          53\n",
       "no              51\n",
       "Name: CAEC, dtype: int64"
      ]
     },
     "execution_count": 104,
     "metadata": {},
     "output_type": "execute_result"
    }
   ],
   "source": [
    "new_data['CAEC'].value_counts()"
   ]
  },
  {
   "cell_type": "code",
   "execution_count": null,
   "id": "98d05d48",
   "metadata": {},
   "outputs": [],
   "source": []
  }
 ],
 "metadata": {
  "kernelspec": {
   "display_name": "Python 3 (ipykernel)",
   "language": "python",
   "name": "python3"
  },
  "language_info": {
   "codemirror_mode": {
    "name": "ipython",
    "version": 3
   },
   "file_extension": ".py",
   "mimetype": "text/x-python",
   "name": "python",
   "nbconvert_exporter": "python",
   "pygments_lexer": "ipython3",
   "version": "3.10.12"
  }
 },
 "nbformat": 4,
 "nbformat_minor": 5
}
